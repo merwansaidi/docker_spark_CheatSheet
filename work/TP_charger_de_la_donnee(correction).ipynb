{
 "cells": [
  {
   "cell_type": "markdown",
   "metadata": {},
   "source": [
    "# 0) Chargement de spark"
   ]
  },
  {
   "cell_type": "code",
   "execution_count": 1,
   "metadata": {},
   "outputs": [],
   "source": [
    "from pyspark.sql import SparkSession\n",
    "spark = SparkSession.builder.getOrCreate()"
   ]
  },
  {
   "cell_type": "markdown",
   "metadata": {},
   "source": [
    "# 1) Lire de la donnée"
   ]
  },
  {
   "cell_type": "markdown",
   "metadata": {},
   "source": [
    "## 1.1) Lecture brute\n",
    "\n",
    "Chargez le fichier ville_1.csv dans une variable nommée df.\n",
    "\n",
    "Vous pouvez afficher votre donnée en utilisant la méthode take() ou la methode collect() de l'objet pyspark DataFrame (attention appeler collect() sur un dataframe est déconseillé si vous avez du vrai big data).\n",
    "\n",
    "L'objet possède aussi un attribut appelé dtypes, appelez cet attribut pour obtenir la liste des colonnes et leur type."
   ]
  },
  {
   "cell_type": "code",
   "execution_count": 5,
   "metadata": {
    "scrolled": false
   },
   "outputs": [
    {
     "data": {
      "text/plain": [
       "[('_c0', 'string'),\n",
       " ('_c1', 'string'),\n",
       " ('_c2', 'string'),\n",
       " ('_c3', 'string'),\n",
       " ('_c4', 'string'),\n",
       " ('_c5', 'string'),\n",
       " ('_c6', 'string'),\n",
       " ('_c7', 'string'),\n",
       " ('_c8', 'string'),\n",
       " ('_c9', 'string'),\n",
       " ('_c10', 'string'),\n",
       " ('_c11', 'string'),\n",
       " ('_c12', 'string')]"
      ]
     },
     "execution_count": 5,
     "metadata": {},
     "output_type": "execute_result"
    }
   ],
   "source": [
    "path = \"./data/Villes/ville_1.csv\"\n",
    "# lecture d'un fichier de manière la plus brute\n",
    "df = spark.read.load(path, format=\"csv\")\n",
    "df.dtypes"
   ]
  },
  {
   "cell_type": "code",
   "execution_count": 6,
   "metadata": {},
   "outputs": [
    {
     "data": {
      "text/plain": [
       "pyspark.sql.dataframe.DataFrame"
      ]
     },
     "execution_count": 6,
     "metadata": {},
     "output_type": "execute_result"
    }
   ],
   "source": [
    "type(df)"
   ]
  },
  {
   "cell_type": "code",
   "execution_count": 7,
   "metadata": {},
   "outputs": [
    {
     "data": {
      "text/plain": [
       "[Row(_c0='id', _c1='vitesse_a_pied', _c2='vitesse_a_velo', _c3='home', _c4='travail', _c5='sportif', _c6='casseur', _c7='statut', _c8='salaire', _c9='sexe', _c10='age', _c11='sportivite', _c12='velo_perf_minimale'),\n",
       " Row(_c0='2', _c1='2.344207322136085', _c2='6.251219525696226', _c3='(lon:2.62 lat:2.59)', _c4='(lon:2.34 lat:0.97)', _c5='False', _c6='False', _c7='cadre', _c8='135167.36710061165', _c9='H', _c10='44', _c11='7.814024407120282', _c12='0.4'),\n",
       " Row(_c0='3', _c1='0.02', _c2='0.05', _c3='(lon:3.79 lat:3.81)', _c4='(lon:0.20 lat:0.21)', _c5='False', _c6='False', _c7='technicien_de_surface', _c8='20026.72646423192', _c9='F', _c10='20', _c11='0.1', _c12='0.4'),\n",
       " Row(_c0='4', _c1='0.02', _c2='0.05', _c3='(lon:3.39 lat:0.93)', _c4='(lon:0.58 lat:0.20)', _c5='False', _c6='False', _c7='technicien_de_surface', _c8='15214.584161640825', _c9='F', _c10='35', _c11='0.1', _c12='0.4'),\n",
       " Row(_c0='5', _c1='0.030000000000000006', _c2='0.08', _c3='(lon:2.88 lat:3.78)', _c4='(lon:3.38 lat:2.93)', _c5='False', _c6='False', _c7='technicien_de_surface', _c8='18235.92844960795', _c9='H', _c10='71', _c11='0.1', _c12='0.4')]"
      ]
     },
     "execution_count": 7,
     "metadata": {},
     "output_type": "execute_result"
    }
   ],
   "source": [
    "df.take(5)"
   ]
  },
  {
   "cell_type": "markdown",
   "metadata": {},
   "source": [
    "## 1.2) Lecture avec les entêtes\n",
    "\n",
    "Recharger le même fichier mais cette fois-ci utilisez l'option header pour rajouter les noms de colonnes à votre df.\n",
    "\n",
    "Appelez l'attribut dtypes et comparez la sortie avec celle de la lecture brute."
   ]
  },
  {
   "cell_type": "code",
   "execution_count": 8,
   "metadata": {
    "scrolled": true
   },
   "outputs": [
    {
     "data": {
      "text/plain": [
       "[('id', 'string'),\n",
       " ('vitesse_a_pied', 'string'),\n",
       " ('vitesse_a_velo', 'string'),\n",
       " ('home', 'string'),\n",
       " ('travail', 'string'),\n",
       " ('sportif', 'string'),\n",
       " ('casseur', 'string'),\n",
       " ('statut', 'string'),\n",
       " ('salaire', 'string'),\n",
       " ('sexe', 'string'),\n",
       " ('age', 'string'),\n",
       " ('sportivite', 'string'),\n",
       " ('velo_perf_minimale', 'string')]"
      ]
     },
     "execution_count": 8,
     "metadata": {},
     "output_type": "execute_result"
    }
   ],
   "source": [
    "# l'option 'header' permet de rajouter les noms des colonnes \n",
    "df = spark.read.format('csv').options(header=True).load(path)\n",
    "df.dtypes"
   ]
  },
  {
   "cell_type": "code",
   "execution_count": 9,
   "metadata": {},
   "outputs": [
    {
     "data": {
      "text/plain": [
       "[Row(id='2', vitesse_a_pied='2.344207322136085', vitesse_a_velo='6.251219525696226', home='(lon:2.62 lat:2.59)', travail='(lon:2.34 lat:0.97)', sportif='False', casseur='False', statut='cadre', salaire='135167.36710061165', sexe='H', age='44', sportivite='7.814024407120282', velo_perf_minimale='0.4'),\n",
       " Row(id='3', vitesse_a_pied='0.02', vitesse_a_velo='0.05', home='(lon:3.79 lat:3.81)', travail='(lon:0.20 lat:0.21)', sportif='False', casseur='False', statut='technicien_de_surface', salaire='20026.72646423192', sexe='F', age='20', sportivite='0.1', velo_perf_minimale='0.4'),\n",
       " Row(id='4', vitesse_a_pied='0.02', vitesse_a_velo='0.05', home='(lon:3.39 lat:0.93)', travail='(lon:0.58 lat:0.20)', sportif='False', casseur='False', statut='technicien_de_surface', salaire='15214.584161640825', sexe='F', age='35', sportivite='0.1', velo_perf_minimale='0.4'),\n",
       " Row(id='5', vitesse_a_pied='0.030000000000000006', vitesse_a_velo='0.08', home='(lon:2.88 lat:3.78)', travail='(lon:3.38 lat:2.93)', sportif='False', casseur='False', statut='technicien_de_surface', salaire='18235.92844960795', sexe='H', age='71', sportivite='0.1', velo_perf_minimale='0.4'),\n",
       " Row(id='6', vitesse_a_pied='0.02', vitesse_a_velo='0.05', home='(lon:0.44 lat:1.45)', travail='(lon:1.85 lat:0.04)', sportif='False', casseur='False', statut='professeur', salaire='30852.120709809133', sexe='F', age='79', sportivite='0.1', velo_perf_minimale='0.4')]"
      ]
     },
     "execution_count": 9,
     "metadata": {},
     "output_type": "execute_result"
    }
   ],
   "source": [
    "df.take(5)"
   ]
  },
  {
   "cell_type": "markdown",
   "metadata": {},
   "source": [
    "## 1.3) Lecture avec les types détectés automatiquement\n",
    "\n",
    "Recharger le fichier avec  l'option inferShema.\n",
    "\n",
    "L'option 'inferSchema' permet de transformer les colonnes en types plus précis : entier  / booléens / chaines de caractères... bien sûr spark trouve les types uniquement si le fichier d'origine permet de les trouver de manière simple"
   ]
  },
  {
   "cell_type": "code",
   "execution_count": null,
   "metadata": {},
   "outputs": [],
   "source": [
    "# l'option 'inferSchema' permet de transformer les colonnes en \n",
    "# types plus précis : entier  / booléens / chaines de caractères...\n",
    "# bien sûr spark trouve les types uniquement si le fichier d'origine\n",
    "# permet de les trouver de manière simple\n",
    "df = spark.read.format('csv').options(header=True, inferSchema=True).load(path)\n",
    "df.dtypes"
   ]
  },
  {
   "cell_type": "code",
   "execution_count": null,
   "metadata": {},
   "outputs": [],
   "source": [
    "df.take(5)"
   ]
  },
  {
   "cell_type": "markdown",
   "metadata": {},
   "source": [
    "## 1.4) L'attribut schema\n",
    "\n",
    "Il vous permet d'afficher le schéma de votre df, avec pour chaque colonne son nom, son type, et si elle accepte les valeurs nulles ou non. "
   ]
  },
  {
   "cell_type": "code",
   "execution_count": null,
   "metadata": {
    "scrolled": true
   },
   "outputs": [],
   "source": [
    "df.schema"
   ]
  },
  {
   "cell_type": "markdown",
   "metadata": {},
   "source": [
    "Vous avez aussi la méthode printSchema() qui permet d'afficher le shéma du df de manière plus lisible."
   ]
  },
  {
   "cell_type": "code",
   "execution_count": null,
   "metadata": {},
   "outputs": [],
   "source": [
    "df.printSchema()"
   ]
  },
  {
   "cell_type": "markdown",
   "metadata": {},
   "source": [
    "# 2) Ecriture de la dataframe sur le disque\n",
    "\n",
    "Sauvegardez le df sous différents formats."
   ]
  },
  {
   "cell_type": "markdown",
   "metadata": {},
   "source": [
    "## 2.1) choix du format : csv"
   ]
  },
  {
   "cell_type": "code",
   "execution_count": null,
   "metadata": {},
   "outputs": [],
   "source": [
    "df.write.format(\"csv\").save(\"./data/Villes/csv\")"
   ]
  },
  {
   "cell_type": "markdown",
   "metadata": {},
   "source": [
    "## 2.2) choix du format : parquet"
   ]
  },
  {
   "cell_type": "code",
   "execution_count": null,
   "metadata": {},
   "outputs": [],
   "source": [
    "df.write.format(\"parquet\").save(\"./data/Villes/parquet\")"
   ]
  },
  {
   "cell_type": "markdown",
   "metadata": {},
   "source": [
    "## 2.3) choix du format : json"
   ]
  },
  {
   "cell_type": "code",
   "execution_count": null,
   "metadata": {},
   "outputs": [],
   "source": [
    "df.write.save(\"./data/Villes/ville\", format=\"json\")"
   ]
  },
  {
   "cell_type": "markdown",
   "metadata": {},
   "source": [
    "## 2.4) Lecture de différents formats\n",
    "\n",
    "Vous pouvez choisir de lire le df sous un format ou un autre en utilisant l'argument format dans la fonction spark.read.load"
   ]
  },
  {
   "cell_type": "code",
   "execution_count": null,
   "metadata": {},
   "outputs": [],
   "source": [
    "# le ! vous permet d'executer des commandes dans votre terminal depuis le notebook\n",
    "!ls ./data/Villes/ville/"
   ]
  },
  {
   "cell_type": "code",
   "execution_count": null,
   "metadata": {},
   "outputs": [],
   "source": [
    "df_json = spark.read.load(\"./data/Villes/ville/\", format=\"json\")"
   ]
  },
  {
   "cell_type": "code",
   "execution_count": null,
   "metadata": {},
   "outputs": [],
   "source": [
    "df_parquet = spark.read.load(\"./data/Villes/parquet\", format=\"parquet\")"
   ]
  },
  {
   "cell_type": "markdown",
   "metadata": {},
   "source": [
    "# 3) Calculer des résultats : les actions "
   ]
  },
  {
   "cell_type": "markdown",
   "metadata": {},
   "source": [
    "## 3.1) Nombre de lignes : count\n",
    "\n",
    "Chargez les fichiers csv contenus dans le dossiers ./data/Cyclistes/ dans un df nommé cyclistes, puis comptez les lignes du dataframe obtenu."
   ]
  },
  {
   "cell_type": "code",
   "execution_count": 2,
   "metadata": {},
   "outputs": [
    {
     "data": {
      "text/plain": [
       "2232000"
      ]
     },
     "execution_count": 2,
     "metadata": {},
     "output_type": "execute_result"
    }
   ],
   "source": [
    "cyclistes = spark.read.load(\"./data/Cyclistes/\", format=\"csv\", header=True, inferSchema=\"True\")\n",
    "cyclistes.count()"
   ]
  },
  {
   "cell_type": "markdown",
   "metadata": {},
   "source": [
    "Afficher le schéma de ce nouveau df"
   ]
  },
  {
   "cell_type": "code",
   "execution_count": 3,
   "metadata": {
    "scrolled": true
   },
   "outputs": [
    {
     "name": "stdout",
     "output_type": "stream",
     "text": [
      "root\n",
      " |-- id: integer (nullable = true)\n",
      " |-- timestamp: string (nullable = true)\n",
      " |-- sur_velo: boolean (nullable = true)\n",
      " |-- velo: string (nullable = true)\n",
      " |-- vitesse: double (nullable = true)\n",
      " |-- position: string (nullable = true)\n",
      " |-- destination_finale: string (nullable = true)\n",
      "\n"
     ]
    }
   ],
   "source": [
    "cyclistes.printSchema()"
   ]
  },
  {
   "cell_type": "markdown",
   "metadata": {},
   "source": [
    "Affichez 10 lignes du df."
   ]
  },
  {
   "cell_type": "code",
   "execution_count": 4,
   "metadata": {
    "scrolled": true
   },
   "outputs": [
    {
     "data": {
      "text/plain": [
       "[Row(id=12, timestamp='2018-01-01 00:01:00', sur_velo=False, velo='False', vitesse=0.030000000000000006, position='(lon:2.07 lat:1.24)', destination_finale='False'),\n",
       " Row(id=12, timestamp='2018-01-01 00:02:00', sur_velo=False, velo='False', vitesse=0.030000000000000006, position='(lon:2.07 lat:1.24)', destination_finale='False'),\n",
       " Row(id=12, timestamp='2018-01-01 00:03:00', sur_velo=False, velo='False', vitesse=0.030000000000000006, position='(lon:2.07 lat:1.24)', destination_finale='False'),\n",
       " Row(id=12, timestamp='2018-01-01 00:04:00', sur_velo=False, velo='False', vitesse=0.030000000000000006, position='(lon:2.07 lat:1.24)', destination_finale='False'),\n",
       " Row(id=12, timestamp='2018-01-01 00:05:00', sur_velo=False, velo='False', vitesse=0.030000000000000006, position='(lon:2.07 lat:1.24)', destination_finale='False'),\n",
       " Row(id=12, timestamp='2018-01-01 00:06:00', sur_velo=False, velo='False', vitesse=0.030000000000000006, position='(lon:2.07 lat:1.24)', destination_finale='False'),\n",
       " Row(id=12, timestamp='2018-01-01 00:07:00', sur_velo=False, velo='False', vitesse=0.030000000000000006, position='(lon:2.07 lat:1.24)', destination_finale='False'),\n",
       " Row(id=12, timestamp='2018-01-01 00:08:00', sur_velo=False, velo='False', vitesse=0.030000000000000006, position='(lon:2.07 lat:1.24)', destination_finale='False'),\n",
       " Row(id=12, timestamp='2018-01-01 00:09:00', sur_velo=False, velo='False', vitesse=0.030000000000000006, position='(lon:2.07 lat:1.24)', destination_finale='False'),\n",
       " Row(id=12, timestamp='2018-01-01 00:10:00', sur_velo=False, velo='False', vitesse=0.030000000000000006, position='(lon:2.07 lat:1.24)', destination_finale='False')]"
      ]
     },
     "execution_count": 4,
     "metadata": {},
     "output_type": "execute_result"
    }
   ],
   "source": [
    "cyclistes.take(10)"
   ]
  },
  {
   "cell_type": "markdown",
   "metadata": {},
   "source": [
    "## 3.2) Moyenne : agg + colonne + mean\n",
    "\n",
    "A l'aide de la méthode agg(), calculez la moyenne sur la colonne vitesse.\n",
    "\n",
    "Vous pouvez récuperer le résultat avec la méthode collect()."
   ]
  },
  {
   "cell_type": "code",
   "execution_count": 10,
   "metadata": {},
   "outputs": [
    {
     "name": "stdout",
     "output_type": "stream",
     "text": [
      "+-------------------+\n",
      "|       avg(vitesse)|\n",
      "+-------------------+\n",
      "|0.44231374640014853|\n",
      "+-------------------+\n",
      "\n"
     ]
    }
   ],
   "source": [
    "cyclistes.agg({\"vitesse\" : \"mean\"}).show()"
   ]
  },
  {
   "cell_type": "markdown",
   "metadata": {},
   "source": [
    "## 3.3) Quantile approximatifs pour gagner du temps de calcul\n",
    "\n",
    "En statistiques et en théorie des probabilités, les quantiles sont les valeurs qui divisent un jeu de données en intervalles contenant le même nombre de données. Il y a donc un quantile de moins que le nombre de groupes créés. Ainsi les quartiles sont les trois quantiles qui divisent un ensemble de données en quatre groupes de taille égale.\n",
    "\n",
    "La méthode approxQuantile permet de laisser une tolérance a l'erreur ce qui réduit le temps de calul sur d'énormes jeux de données."
   ]
  },
  {
   "cell_type": "code",
   "execution_count": 11,
   "metadata": {},
   "outputs": [],
   "source": [
    "import time"
   ]
  },
  {
   "cell_type": "code",
   "execution_count": 12,
   "metadata": {},
   "outputs": [],
   "source": [
    "def calcul_quantile(df, erreur_acceptee):\n",
    "    debut            = time.time()\n",
    "    colonne          = \"vitesse\"\n",
    "    quantiles_voulus = [0.25, 0.50, 0.75]\n",
    "    resultat         =  df.approxQuantile(colonne, quantiles_voulus , erreur_acceptee )\n",
    "    fin              = time.time()\n",
    "    delais           = fin -debut\n",
    "    print (\"delais =%.2f sec, quantiles = %s\"%(delais, resultat))"
   ]
  },
  {
   "cell_type": "code",
   "execution_count": 13,
   "metadata": {},
   "outputs": [
    {
     "name": "stdout",
     "output_type": "stream",
     "text": [
      "delais =5.46 sec, quantiles = [0.030000000000000006, 0.2973786407359121, 0.6467173919199576]\n"
     ]
    }
   ],
   "source": [
    "calcul_quantile(cyclistes, 0.05)"
   ]
  },
  {
   "cell_type": "code",
   "execution_count": 14,
   "metadata": {},
   "outputs": [
    {
     "name": "stdout",
     "output_type": "stream",
     "text": [
      "delais =7.03 sec, quantiles = [0.030000000000000006, 0.2973786407359121, 0.6295531740219638]\n"
     ]
    }
   ],
   "source": [
    "calcul_quantile(cyclistes, 0.01)"
   ]
  },
  {
   "cell_type": "code",
   "execution_count": 15,
   "metadata": {},
   "outputs": [
    {
     "name": "stdout",
     "output_type": "stream",
     "text": [
      "delais =118.21 sec, quantiles = [0.030000000000000006, 0.3283952876721612, 0.6295531740219638]\n"
     ]
    }
   ],
   "source": [
    "calcul_quantile(cyclistes, 0)"
   ]
  },
  {
   "cell_type": "markdown",
   "metadata": {},
   "source": [
    "## Reload de la dataframe villes\n",
    "\n",
    "Chargez le fichier villes dans un df nommé villes."
   ]
  },
  {
   "cell_type": "code",
   "execution_count": 16,
   "metadata": {
    "scrolled": true
   },
   "outputs": [
    {
     "name": "stdout",
     "output_type": "stream",
     "text": [
      "root\n",
      " |-- id: integer (nullable = true)\n",
      " |-- vitesse_a_pied: double (nullable = true)\n",
      " |-- vitesse_a_velo: double (nullable = true)\n",
      " |-- home: string (nullable = true)\n",
      " |-- travail: string (nullable = true)\n",
      " |-- sportif: boolean (nullable = true)\n",
      " |-- casseur: boolean (nullable = true)\n",
      " |-- statut: string (nullable = true)\n",
      " |-- salaire: double (nullable = true)\n",
      " |-- sexe: string (nullable = true)\n",
      " |-- age: integer (nullable = true)\n",
      " |-- sportivite: double (nullable = true)\n",
      " |-- velo_perf_minimale: double (nullable = true)\n",
      "\n"
     ]
    }
   ],
   "source": [
    "villes =spark.read.load(\"./data/Villes/\", format=\"csv\", header=True, inferSchema=\"True\")\n",
    "villes.printSchema()"
   ]
  },
  {
   "cell_type": "code",
   "execution_count": 17,
   "metadata": {},
   "outputs": [
    {
     "data": {
      "text/plain": [
       "[Row(id=2, vitesse_a_pied=2.344207322136085, vitesse_a_velo=6.251219525696226, home='(lon:2.62 lat:2.59)', travail='(lon:2.34 lat:0.97)', sportif=False, casseur=False, statut='cadre', salaire=135167.36710061165, sexe='H', age=44, sportivite=7.814024407120282, velo_perf_minimale=0.4),\n",
       " Row(id=3, vitesse_a_pied=0.02, vitesse_a_velo=0.05, home='(lon:3.79 lat:3.81)', travail='(lon:0.20 lat:0.21)', sportif=False, casseur=False, statut='technicien_de_surface', salaire=20026.72646423192, sexe='F', age=20, sportivite=0.1, velo_perf_minimale=0.4),\n",
       " Row(id=4, vitesse_a_pied=0.02, vitesse_a_velo=0.05, home='(lon:3.39 lat:0.93)', travail='(lon:0.58 lat:0.20)', sportif=False, casseur=False, statut='technicien_de_surface', salaire=15214.584161640825, sexe='F', age=35, sportivite=0.1, velo_perf_minimale=0.4),\n",
       " Row(id=5, vitesse_a_pied=0.030000000000000006, vitesse_a_velo=0.08, home='(lon:2.88 lat:3.78)', travail='(lon:3.38 lat:2.93)', sportif=False, casseur=False, statut='technicien_de_surface', salaire=18235.92844960795, sexe='H', age=71, sportivite=0.1, velo_perf_minimale=0.4),\n",
       " Row(id=6, vitesse_a_pied=0.02, vitesse_a_velo=0.05, home='(lon:0.44 lat:1.45)', travail='(lon:1.85 lat:0.04)', sportif=False, casseur=False, statut='professeur', salaire=30852.120709809133, sexe='F', age=79, sportivite=0.1, velo_perf_minimale=0.4),\n",
       " Row(id=7, vitesse_a_pied=0.9726853575358816, vitesse_a_velo=2.431713393839704, home='(lon:0.18 lat:2.60)', travail='(lon:2.16 lat:2.28)', sportif=False, casseur=False, statut='employe', salaire=54494.87538632937, sexe='F', age=46, sportivite=4.863426787679408, velo_perf_minimale=0.4),\n",
       " Row(id=8, vitesse_a_pied=0.24473592541818706, vitesse_a_velo=0.6526291344484989, home='(lon:1.67 lat:0.17)', travail='(lon:2.19 lat:1.90)', sportif=False, casseur=False, statut='technicien_de_surface', salaire=33597.687351868175, sexe='H', age=63, sportivite=0.8157864180606236, velo_perf_minimale=0.4),\n",
       " Row(id=9, vitesse_a_pied=0.6295531740219638, vitesse_a_velo=1.5738829350549093, home='(lon:2.16 lat:2.32)', travail='(lon:3.44 lat:3.54)', sportif=False, casseur=False, statut='technicien_de_surface', salaire=11799.927798039249, sexe='F', age=65, sportivite=3.1477658701098186, velo_perf_minimale=0.4),\n",
       " Row(id=10, vitesse_a_pied=0.3385617496874321, vitesse_a_velo=0.9028313324998192, home='(lon:2.16 lat:2.98)', travail='(lon:2.34 lat:2.56)', sportif=False, casseur=False, statut='professeur', salaire=33131.88170893892, sexe='H', age=32, sportivite=1.128539165624774, velo_perf_minimale=0.4),\n",
       " Row(id=11, vitesse_a_pied=0.25214291732243804, vitesse_a_velo=0.630357293306095, home='(lon:0.28 lat:2.44)', travail='(lon:1.28 lat:1.40)', sportif=False, casseur=False, statut='employe', salaire=53716.3729157698, sexe='F', age=21, sportivite=1.26071458661219, velo_perf_minimale=0.4)]"
      ]
     },
     "execution_count": 17,
     "metadata": {},
     "output_type": "execute_result"
    }
   ],
   "source": [
    "villes.take(10)"
   ]
  },
  {
   "cell_type": "markdown",
   "metadata": {},
   "source": [
    "## 3.4) corrélation\n",
    "\n",
    "En probabilités et en statistique, la corrélation entre plusieurs variables aléatoires ou statistiques est une notion de liaison qui contredit leur indépendance.\n",
    "\n",
    "Calculez la corrélation entre les colonnes age et vitesse_a_velo."
   ]
  },
  {
   "cell_type": "code",
   "execution_count": 19,
   "metadata": {},
   "outputs": [
    {
     "data": {
      "text/plain": [
       "-0.06411845578664936"
      ]
     },
     "execution_count": 19,
     "metadata": {},
     "output_type": "execute_result"
    }
   ],
   "source": [
    "villes.corr(\"age\", \"vitesse_a_velo\")"
   ]
  },
  {
   "cell_type": "markdown",
   "metadata": {},
   "source": [
    "## 3.5) covariance\n",
    "\n",
    "La covariance entre deux variables aléatoires est un nombre permettant de quantifier leurs écarts conjoints par rapport à leurs espérances respectives. Elle s’utilise également pour deux séries de données numériques (écarts par rapport aux moyennes).\n",
    "La covariance est une extension de la notion de variance. La corrélation est une forme normalisée de la covariance.\n",
    "\n",
    "Calculez la covariance entre les colonnes age et vitesse_a_velo."
   ]
  },
  {
   "cell_type": "code",
   "execution_count": 20,
   "metadata": {},
   "outputs": [
    {
     "data": {
      "text/plain": [
       "-1.5721945755314064"
      ]
     },
     "execution_count": 20,
     "metadata": {},
     "output_type": "execute_result"
    }
   ],
   "source": [
    "villes.cov(\"age\", \"vitesse_a_velo\")"
   ]
  },
  {
   "cell_type": "markdown",
   "metadata": {},
   "source": [
    "## 3.6) sample\n",
    "\n",
    "La méthode sample() permet de tirer aléatoirement une fraction du dataframe."
   ]
  },
  {
   "cell_type": "code",
   "execution_count": 21,
   "metadata": {},
   "outputs": [
    {
     "data": {
      "text/plain": [
       "50"
      ]
     },
     "execution_count": 21,
     "metadata": {},
     "output_type": "execute_result"
    }
   ],
   "source": [
    "villes.count()"
   ]
  },
  {
   "cell_type": "code",
   "execution_count": 41,
   "metadata": {},
   "outputs": [
    {
     "data": {
      "text/plain": [
       "4"
      ]
     },
     "execution_count": 41,
     "metadata": {},
     "output_type": "execute_result"
    }
   ],
   "source": [
    "villes_1_pct = villes.sample(False, 0.1)\n",
    "villes_1_pct.count()"
   ]
  },
  {
   "cell_type": "code",
   "execution_count": 39,
   "metadata": {},
   "outputs": [
    {
     "data": {
      "text/plain": [
       "[Row(id=7, vitesse_a_pied=0.9726853575358816, vitesse_a_velo=2.431713393839704, home='(lon:0.18 lat:2.60)', travail='(lon:2.16 lat:2.28)', sportif=False, casseur=False, statut='employe', salaire=54494.87538632937, sexe='F', age=46, sportivite=4.863426787679408, velo_perf_minimale=0.4),\n",
       " Row(id=20, vitesse_a_pied=0.0820881445834403, vitesse_a_velo=0.21890171888917406, home='(lon:1.72 lat:2.95)', travail='(lon:2.65 lat:1.68)', sportif=False, casseur=False, statut='cadre', salaire=78429.53192610192, sexe='H', age=74, sportivite=0.27362714861146764, velo_perf_minimale=0.4)]"
      ]
     },
     "execution_count": 39,
     "metadata": {},
     "output_type": "execute_result"
    }
   ],
   "source": [
    "villes_1_pct.collect()"
   ]
  },
  {
   "cell_type": "code",
   "execution_count": 34,
   "metadata": {
    "scrolled": true
   },
   "outputs": [
    {
     "data": {
      "text/plain": [
       "45"
      ]
     },
     "execution_count": 34,
     "metadata": {},
     "output_type": "execute_result"
    }
   ],
   "source": [
    "villes.exceptAll(villes_1_pct).count()"
   ]
  },
  {
   "cell_type": "markdown",
   "metadata": {},
   "source": [
    "## 3.7) filter \n",
    "\n",
    "La méthode filter() permet le df selon certaines valeurs dans les colonnes.\n",
    "\n",
    "Utilisez cette méthode pour récuperer seulement les lignes avec le sexe féminin."
   ]
  },
  {
   "cell_type": "code",
   "execution_count": 45,
   "metadata": {},
   "outputs": [],
   "source": [
    "villesF = villes.filter(villes.sexe==\"F\")"
   ]
  },
  {
   "cell_type": "code",
   "execution_count": 46,
   "metadata": {},
   "outputs": [
    {
     "data": {
      "text/plain": [
       "21"
      ]
     },
     "execution_count": 46,
     "metadata": {},
     "output_type": "execute_result"
    }
   ],
   "source": [
    "villesF.count()"
   ]
  },
  {
   "cell_type": "code",
   "execution_count": 47,
   "metadata": {
    "scrolled": true
   },
   "outputs": [
    {
     "data": {
      "text/plain": [
       "[Row(id=3, vitesse_a_pied=0.02, vitesse_a_velo=0.05, home='(lon:3.79 lat:3.81)', travail='(lon:0.20 lat:0.21)', sportif=False, casseur=False, statut='technicien_de_surface', salaire=20026.72646423192, sexe='F', age=20, sportivite=0.1, velo_perf_minimale=0.4),\n",
       " Row(id=4, vitesse_a_pied=0.02, vitesse_a_velo=0.05, home='(lon:3.39 lat:0.93)', travail='(lon:0.58 lat:0.20)', sportif=False, casseur=False, statut='technicien_de_surface', salaire=15214.584161640825, sexe='F', age=35, sportivite=0.1, velo_perf_minimale=0.4),\n",
       " Row(id=6, vitesse_a_pied=0.02, vitesse_a_velo=0.05, home='(lon:0.44 lat:1.45)', travail='(lon:1.85 lat:0.04)', sportif=False, casseur=False, statut='professeur', salaire=30852.120709809133, sexe='F', age=79, sportivite=0.1, velo_perf_minimale=0.4),\n",
       " Row(id=7, vitesse_a_pied=0.9726853575358816, vitesse_a_velo=2.431713393839704, home='(lon:0.18 lat:2.60)', travail='(lon:2.16 lat:2.28)', sportif=False, casseur=False, statut='employe', salaire=54494.87538632937, sexe='F', age=46, sportivite=4.863426787679408, velo_perf_minimale=0.4),\n",
       " Row(id=9, vitesse_a_pied=0.6295531740219638, vitesse_a_velo=1.5738829350549093, home='(lon:2.16 lat:2.32)', travail='(lon:3.44 lat:3.54)', sportif=False, casseur=False, statut='technicien_de_surface', salaire=11799.927798039249, sexe='F', age=65, sportivite=3.1477658701098186, velo_perf_minimale=0.4),\n",
       " Row(id=11, vitesse_a_pied=0.25214291732243804, vitesse_a_velo=0.630357293306095, home='(lon:0.28 lat:2.44)', travail='(lon:1.28 lat:1.40)', sportif=False, casseur=False, statut='employe', salaire=53716.3729157698, sexe='F', age=21, sportivite=1.26071458661219, velo_perf_minimale=0.4),\n",
       " Row(id=14, vitesse_a_pied=0.3733552690301726, vitesse_a_velo=0.9333881725754316, home='(lon:3.87 lat:3.74)', travail='(lon:0.41 lat:0.36)', sportif=False, casseur=False, statut='cadre', salaire=74308.6319691613, sexe='F', age=34, sportivite=1.866776345150863, velo_perf_minimale=0.4),\n",
       " Row(id=16, vitesse_a_pied=0.02, vitesse_a_velo=0.05, home='(lon:1.37 lat:1.09)', travail='(lon:0.45 lat:1.77)', sportif=False, casseur=False, statut='éboueur', salaire=21040.289070523115, sexe='F', age=32, sportivite=0.1, velo_perf_minimale=0.4),\n",
       " Row(id=17, vitesse_a_pied=1.0608622097751907, vitesse_a_velo=2.6521555244379766, home='(lon:3.68 lat:0.79)', travail='(lon:2.67 lat:3.66)', sportif=False, casseur=False, statut='technicien_de_surface', salaire=16946.365288912493, sexe='F', age=16, sportivite=5.304311048875953, velo_perf_minimale=0.4),\n",
       " Row(id=18, vitesse_a_pied=0.02, vitesse_a_velo=0.05, home='(lon:0.51 lat:2.32)', travail='(lon:1.01 lat:0.40)', sportif=False, casseur=False, statut='technicien_de_surface', salaire=22099.145463261266, sexe='F', age=24, sportivite=0.1, velo_perf_minimale=0.4)]"
      ]
     },
     "execution_count": 47,
     "metadata": {},
     "output_type": "execute_result"
    }
   ],
   "source": [
    "villesF.take(10)"
   ]
  },
  {
   "cell_type": "markdown",
   "metadata": {},
   "source": [
    "On peux aussi filtrer le df avec la méthode where(). Filtrez le df de la même façon que precedemment en utilisant cette méthode."
   ]
  },
  {
   "cell_type": "code",
   "execution_count": 48,
   "metadata": {},
   "outputs": [
    {
     "data": {
      "text/plain": [
       "21"
      ]
     },
     "execution_count": 48,
     "metadata": {},
     "output_type": "execute_result"
    }
   ],
   "source": [
    "villes.where(villes.sexe==\"F\").count()"
   ]
  },
  {
   "cell_type": "markdown",
   "metadata": {},
   "source": [
    "# 4) Transformer la données : les transformations!"
   ]
  },
  {
   "cell_type": "markdown",
   "metadata": {},
   "source": [
    "## Transformations : demandent à être suivi par un collect ou une action (count par exemple)"
   ]
  },
  {
   "cell_type": "markdown",
   "metadata": {},
   "source": [
    "## 4.1) Obtenir des statistiques sur les colonnes numériques\n",
    "\n",
    "La méthode describe() permet de calculer les statistiques récapitulatives d'une ou plusieurs colonnes numériques dans un df. Si le nom des colonnes n'est pas spécifié, la méthode calculera des statistiques récapitulatives pour toutes les colonnes numériques présentes dans le df.\n",
    "\n",
    "Afficher les statistiques de la colonne age."
   ]
  },
  {
   "cell_type": "code",
   "execution_count": 50,
   "metadata": {
    "scrolled": false
   },
   "outputs": [],
   "source": [
    "desc = villes.describe([\"age\"])"
   ]
  },
  {
   "cell_type": "code",
   "execution_count": 51,
   "metadata": {},
   "outputs": [
    {
     "data": {
      "text/plain": [
       "[Row(summary='count', age='50'),\n",
       " Row(summary='mean', age='48.4'),\n",
       " Row(summary='stddev', age='19.79898987322333'),\n",
       " Row(summary='min', age='16'),\n",
       " Row(summary='max', age='83')]"
      ]
     },
     "execution_count": 51,
     "metadata": {},
     "output_type": "execute_result"
    }
   ],
   "source": [
    "desc.collect()"
   ]
  },
  {
   "cell_type": "code",
   "execution_count": 52,
   "metadata": {},
   "outputs": [
    {
     "name": "stdout",
     "output_type": "stream",
     "text": [
      "+-------+-----------------+\n",
      "|summary|              age|\n",
      "+-------+-----------------+\n",
      "|  count|               50|\n",
      "|   mean|             48.4|\n",
      "| stddev|19.79898987322333|\n",
      "|    min|               16|\n",
      "|    max|               83|\n",
      "+-------+-----------------+\n",
      "\n"
     ]
    }
   ],
   "source": [
    "villes.describe([\"age\"]).show()"
   ]
  },
  {
   "cell_type": "markdown",
   "metadata": {},
   "source": [
    "## 4.2) groupby\n",
    "\n",
    "La méthode groupBy() suivie de la methode agg() permet de grouper le df selon les catgories d'une ou plusieurs colonnes pour faire des calculs sur ces catégories.\n",
    "\n",
    "Calculez la moyenne de la colonnes sportivité selon le sexe des personnes."
   ]
  },
  {
   "cell_type": "code",
   "execution_count": 53,
   "metadata": {},
   "outputs": [
    {
     "data": {
      "text/plain": [
       "[Row(sexe='F', avg(sportivite)=1.8410619134680517),\n",
       " Row(sexe='H', avg(sportivite)=1.6356186755623958)]"
      ]
     },
     "execution_count": 53,
     "metadata": {},
     "output_type": "execute_result"
    }
   ],
   "source": [
    "villes.groupBy(\"sexe\").agg({\"sportivite\" : \"mean\"}).collect()"
   ]
  },
  {
   "cell_type": "markdown",
   "metadata": {},
   "source": [
    "Calculez la moyenne de la colonne age et la valeur max de la colonne sportivité par sexe."
   ]
  },
  {
   "cell_type": "code",
   "execution_count": 54,
   "metadata": {},
   "outputs": [
    {
     "data": {
      "text/plain": [
       "[Row(sexe='F', max(sportivite)=5.304311048875953, avg(age)=46.095238095238095),\n",
       " Row(sexe='H', max(sportivite)=7.814024407120282, avg(age)=50.06896551724138)]"
      ]
     },
     "execution_count": 54,
     "metadata": {},
     "output_type": "execute_result"
    }
   ],
   "source": [
    "villes.groupBy(\"sexe\").agg({\"sportivite\" : \"max\", \"age\":\"mean\"}).collect()"
   ]
  },
  {
   "cell_type": "markdown",
   "metadata": {},
   "source": [
    "Calculez la moyenne des colonnes vitesse_a_pied et vitesse_a_velo par sexe."
   ]
  },
  {
   "cell_type": "code",
   "execution_count": 55,
   "metadata": {
    "scrolled": true
   },
   "outputs": [
    {
     "data": {
      "text/plain": [
       "[Row(sexe='F', avg(vitesse_a_velo)=0.9205309567340259, avg(vitesse_a_pied)=0.36821238269361034),\n",
       " Row(sexe='H', avg(vitesse_a_velo)=1.3084949404499162, avg(vitesse_a_pied)=0.4906856026687184)]"
      ]
     },
     "execution_count": 55,
     "metadata": {},
     "output_type": "execute_result"
    }
   ],
   "source": [
    "villes.groupBy(\"sexe\").agg({\"vitesse_a_pied\" : \"mean\", \"vitesse_a_velo\":\"mean\"}).collect()"
   ]
  },
  {
   "cell_type": "markdown",
   "metadata": {},
   "source": [
    "## 4.3) summary\n",
    "\n",
    "La méthode summary() permet des faire des calculs statistiques de base sur toutes les colonnes du df.\n",
    "\n",
    "Appliquez un count et un max sur toutes les colonnes du df et afficher les résultats."
   ]
  },
  {
   "cell_type": "code",
   "execution_count": 56,
   "metadata": {
    "scrolled": false
   },
   "outputs": [
    {
     "data": {
      "text/plain": [
       "[Row(summary='count', id='50', vitesse_a_pied='50', vitesse_a_velo='50', home='50', travail='50', statut='50', salaire='50', sexe='50', age='50', sportivite='50', velo_perf_minimale='50'),\n",
       " Row(summary='max', id='51', vitesse_a_pied='2.344207322136085', vitesse_a_velo='6.251219525696226', home='(lon:3.90 lat:0.62)', travail='(lon:3.91 lat:3.22)', statut='éboueur', salaire='148702.7189509448', sexe='H', age='83', sportivite='7.814024407120282', velo_perf_minimale='0.4')]"
      ]
     },
     "execution_count": 56,
     "metadata": {},
     "output_type": "execute_result"
    }
   ],
   "source": [
    "villes.summary(\"count\", \"max\").collect()"
   ]
  },
  {
   "cell_type": "code",
   "execution_count": 64,
   "metadata": {},
   "outputs": [
    {
     "data": {
      "text/plain": [
       "[Row(statut='reserviste'),\n",
       " Row(statut='cadre'),\n",
       " Row(statut='employe'),\n",
       " Row(statut='technicien_de_surface'),\n",
       " Row(statut='éboueur'),\n",
       " Row(statut='professeur')]"
      ]
     },
     "execution_count": 64,
     "metadata": {},
     "output_type": "execute_result"
    }
   ],
   "source": [
    "from pyspark.sql import functions as F\n",
    "villes.select('statut').distinct().collect()"
   ]
  },
  {
   "cell_type": "markdown",
   "metadata": {},
   "source": [
    "## 4.4) Union de dataframe"
   ]
  },
  {
   "cell_type": "markdown",
   "metadata": {},
   "source": [
    "#### Ajouter les colonnes les unes à côté des autres : join"
   ]
  },
  {
   "cell_type": "code",
   "execution_count": 67,
   "metadata": {
    "scrolled": false
   },
   "outputs": [],
   "source": [
    "df1 = villes.join(cyclistes, on=\"id\")"
   ]
  },
  {
   "cell_type": "code",
   "execution_count": 68,
   "metadata": {},
   "outputs": [
    {
     "data": {
      "text/plain": [
       "[Row(id=12, vitesse_a_pied=0.030000000000000006, vitesse_a_velo=0.08, home='(lon:2.07 lat:1.24)', travail='(lon:2.62 lat:2.41)', sportif=False, casseur=False, statut='éboueur', salaire=25445.75075327384, sexe='H', age=34, sportivite=0.1, velo_perf_minimale=0.4, timestamp='2018-01-01 00:01:00', sur_velo=False, velo='False', vitesse=0.030000000000000006, position='(lon:2.07 lat:1.24)', destination_finale='False'),\n",
       " Row(id=12, vitesse_a_pied=0.030000000000000006, vitesse_a_velo=0.08, home='(lon:2.07 lat:1.24)', travail='(lon:2.62 lat:2.41)', sportif=False, casseur=False, statut='éboueur', salaire=25445.75075327384, sexe='H', age=34, sportivite=0.1, velo_perf_minimale=0.4, timestamp='2018-01-01 00:02:00', sur_velo=False, velo='False', vitesse=0.030000000000000006, position='(lon:2.07 lat:1.24)', destination_finale='False'),\n",
       " Row(id=12, vitesse_a_pied=0.030000000000000006, vitesse_a_velo=0.08, home='(lon:2.07 lat:1.24)', travail='(lon:2.62 lat:2.41)', sportif=False, casseur=False, statut='éboueur', salaire=25445.75075327384, sexe='H', age=34, sportivite=0.1, velo_perf_minimale=0.4, timestamp='2018-01-01 00:03:00', sur_velo=False, velo='False', vitesse=0.030000000000000006, position='(lon:2.07 lat:1.24)', destination_finale='False'),\n",
       " Row(id=12, vitesse_a_pied=0.030000000000000006, vitesse_a_velo=0.08, home='(lon:2.07 lat:1.24)', travail='(lon:2.62 lat:2.41)', sportif=False, casseur=False, statut='éboueur', salaire=25445.75075327384, sexe='H', age=34, sportivite=0.1, velo_perf_minimale=0.4, timestamp='2018-01-01 00:04:00', sur_velo=False, velo='False', vitesse=0.030000000000000006, position='(lon:2.07 lat:1.24)', destination_finale='False'),\n",
       " Row(id=12, vitesse_a_pied=0.030000000000000006, vitesse_a_velo=0.08, home='(lon:2.07 lat:1.24)', travail='(lon:2.62 lat:2.41)', sportif=False, casseur=False, statut='éboueur', salaire=25445.75075327384, sexe='H', age=34, sportivite=0.1, velo_perf_minimale=0.4, timestamp='2018-01-01 00:05:00', sur_velo=False, velo='False', vitesse=0.030000000000000006, position='(lon:2.07 lat:1.24)', destination_finale='False')]"
      ]
     },
     "execution_count": 68,
     "metadata": {},
     "output_type": "execute_result"
    }
   ],
   "source": [
    "df1.take(5)"
   ]
  },
  {
   "cell_type": "markdown",
   "metadata": {},
   "source": [
    "#### Ajouter les lignes les unes sous les autres : union"
   ]
  },
  {
   "cell_type": "code",
   "execution_count": null,
   "metadata": {
    "scrolled": true
   },
   "outputs": [],
   "source": [
    "villes.unionByName(villes).count()"
   ]
  },
  {
   "cell_type": "markdown",
   "metadata": {},
   "source": [
    "## 4.6) Concaténation de colonne : F.concat"
   ]
  },
  {
   "cell_type": "code",
   "execution_count": 69,
   "metadata": {},
   "outputs": [],
   "source": [
    "from pyspark.sql.types import *\n",
    "from pyspark.sql import functions as F"
   ]
  },
  {
   "cell_type": "markdown",
   "metadata": {},
   "source": [
    "Nous allons ici reprendre le df cyclistes.\n",
    "\n",
    "Utiliser les méthodes withColumn() et F.concat() pour ajouter une colonne au df qui contiendra la concatenation des valeurs des colonnes id et sur_velo. "
   ]
  },
  {
   "cell_type": "code",
   "execution_count": 70,
   "metadata": {
    "scrolled": true
   },
   "outputs": [
    {
     "data": {
      "text/plain": [
       "2232000"
      ]
     },
     "execution_count": 70,
     "metadata": {},
     "output_type": "execute_result"
    }
   ],
   "source": [
    "path = \"./data/Cyclistes/*.csv\" \n",
    "cyclistes = spark.read.format(\"csv\").option(\"header\", \"true\").load(path, inferSchema=True)\n",
    "cyclistes.count()"
   ]
  },
  {
   "cell_type": "code",
   "execution_count": 71,
   "metadata": {
    "scrolled": true
   },
   "outputs": [
    {
     "data": {
      "text/plain": [
       "[Row(id=12, timestamp='2018-01-01 00:01:00', sur_velo=False, velo='False', vitesse=0.030000000000000006, position='(lon:2.07 lat:1.24)', destination_finale='False'),\n",
       " Row(id=12, timestamp='2018-01-01 00:02:00', sur_velo=False, velo='False', vitesse=0.030000000000000006, position='(lon:2.07 lat:1.24)', destination_finale='False'),\n",
       " Row(id=12, timestamp='2018-01-01 00:03:00', sur_velo=False, velo='False', vitesse=0.030000000000000006, position='(lon:2.07 lat:1.24)', destination_finale='False'),\n",
       " Row(id=12, timestamp='2018-01-01 00:04:00', sur_velo=False, velo='False', vitesse=0.030000000000000006, position='(lon:2.07 lat:1.24)', destination_finale='False'),\n",
       " Row(id=12, timestamp='2018-01-01 00:05:00', sur_velo=False, velo='False', vitesse=0.030000000000000006, position='(lon:2.07 lat:1.24)', destination_finale='False'),\n",
       " Row(id=12, timestamp='2018-01-01 00:06:00', sur_velo=False, velo='False', vitesse=0.030000000000000006, position='(lon:2.07 lat:1.24)', destination_finale='False'),\n",
       " Row(id=12, timestamp='2018-01-01 00:07:00', sur_velo=False, velo='False', vitesse=0.030000000000000006, position='(lon:2.07 lat:1.24)', destination_finale='False'),\n",
       " Row(id=12, timestamp='2018-01-01 00:08:00', sur_velo=False, velo='False', vitesse=0.030000000000000006, position='(lon:2.07 lat:1.24)', destination_finale='False'),\n",
       " Row(id=12, timestamp='2018-01-01 00:09:00', sur_velo=False, velo='False', vitesse=0.030000000000000006, position='(lon:2.07 lat:1.24)', destination_finale='False'),\n",
       " Row(id=12, timestamp='2018-01-01 00:10:00', sur_velo=False, velo='False', vitesse=0.030000000000000006, position='(lon:2.07 lat:1.24)', destination_finale='False')]"
      ]
     },
     "execution_count": 71,
     "metadata": {},
     "output_type": "execute_result"
    }
   ],
   "source": [
    "cyclistes.take(10)"
   ]
  },
  {
   "cell_type": "code",
   "execution_count": 72,
   "metadata": {},
   "outputs": [
    {
     "data": {
      "text/plain": [
       "Row(id=12, timestamp='2018-01-01 00:01:00', sur_velo=False, velo='False', vitesse=0.030000000000000006, position='(lon:2.07 lat:1.24)', destination_finale='False', id_sur_velo='12false')"
      ]
     },
     "execution_count": 72,
     "metadata": {},
     "output_type": "execute_result"
    }
   ],
   "source": [
    "cyclistes.withColumn(\"id_sur_velo\", F.concat(cyclistes.id, cyclistes.sur_velo)).first()"
   ]
  },
  {
   "cell_type": "markdown",
   "metadata": {},
   "source": [
    "# 5) Fonctions udf \n",
    "Il est possible d'enregistrer des fonctions python que l'on écrit nous même pour les appliquer sur une colonne d'une dataframe, c'est ce qu'on appelle les udf, pour User Defined Functions.\n",
    "\n",
    "Voici une fonction qui prend en argument une colonne et calcule le carré des valeurs de cette colonne.\n",
    "Appliquez cette fonction sur la colonne salaire de votre df. Affichez le résultat."
   ]
  },
  {
   "cell_type": "code",
   "execution_count": 73,
   "metadata": {},
   "outputs": [],
   "source": [
    "from pyspark.sql.types import *\n",
    "from pyspark.sql.functions import udf\n",
    "\n",
    "@udf(returnType = FloatType())\n",
    "def carre(colonne):\n",
    "    return colonne**2"
   ]
  },
  {
   "cell_type": "code",
   "execution_count": 75,
   "metadata": {},
   "outputs": [
    {
     "data": {
      "text/plain": [
       "[Row(carre(salaire)=18270216192.0),\n",
       " Row(carre(salaire)=401069760.0),\n",
       " Row(carre(salaire)=231483568.0),\n",
       " Row(carre(salaire)=332549088.0),\n",
       " Row(carre(salaire)=951853376.0),\n",
       " Row(carre(salaire)=2969691392.0),\n",
       " Row(carre(salaire)=1128804608.0),\n",
       " Row(carre(salaire)=139238304.0),\n",
       " Row(carre(salaire)=1097721600.0),\n",
       " Row(carre(salaire)=2885448704.0),\n",
       " Row(carre(salaire)=647486208.0),\n",
       " Row(carre(salaire)=1229584384.0),\n",
       " Row(carre(salaire)=5521772544.0),\n",
       " Row(carre(salaire)=2574637056.0),\n",
       " Row(carre(salaire)=442693760.0),\n",
       " Row(carre(salaire)=287179296.0),\n",
       " Row(carre(salaire)=488372224.0),\n",
       " Row(carre(salaire)=6955476480.0),\n",
       " Row(carre(salaire)=6151191552.0),\n",
       " Row(carre(salaire)=5757398016.0),\n",
       " Row(carre(salaire)=1513707392.0),\n",
       " Row(carre(salaire)=845977152.0),\n",
       " Row(carre(salaire)=15607006208.0),\n",
       " Row(carre(salaire)=279298720.0),\n",
       " Row(carre(salaire)=658956352.0),\n",
       " Row(carre(salaire)=332481376.0),\n",
       " Row(carre(salaire)=11568824320.0),\n",
       " Row(carre(salaire)=871186176.0),\n",
       " Row(carre(salaire)=731495360.0),\n",
       " Row(carre(salaire)=22112497664.0),\n",
       " Row(carre(salaire)=1202230528.0),\n",
       " Row(carre(salaire)=423060096.0),\n",
       " Row(carre(salaire)=295006688.0),\n",
       " Row(carre(salaire)=1184019968.0),\n",
       " Row(carre(salaire)=229316384.0),\n",
       " Row(carre(salaire)=4948908544.0),\n",
       " Row(carre(salaire)=880376512.0),\n",
       " Row(carre(salaire)=993021504.0),\n",
       " Row(carre(salaire)=332946784.0),\n",
       " Row(carre(salaire)=155353856.0),\n",
       " Row(carre(salaire)=375707488.0),\n",
       " Row(carre(salaire)=421229280.0),\n",
       " Row(carre(salaire)=454536128.0),\n",
       " Row(carre(salaire)=5381703680.0),\n",
       " Row(carre(salaire)=596220544.0),\n",
       " Row(carre(salaire)=948523328.0),\n",
       " Row(carre(salaire)=147226240.0),\n",
       " Row(carre(salaire)=90477104.0),\n",
       " Row(carre(salaire)=988872128.0),\n",
       " Row(carre(salaire)=580938816.0)]"
      ]
     },
     "execution_count": 75,
     "metadata": {},
     "output_type": "execute_result"
    }
   ],
   "source": [
    "villes.select(carre(\"salaire\")).collect()"
   ]
  },
  {
   "cell_type": "markdown",
   "metadata": {},
   "source": [
    "# 6)\tEtude de cas : analyse des fichiers de logs des cyclistes"
   ]
  },
  {
   "cell_type": "code",
   "execution_count": 3,
   "metadata": {},
   "outputs": [],
   "source": [
    "from pyspark.sql.types import *\n",
    "from pyspark.sql import functions as F\n",
    "from pyspark.sql.types import *\n",
    "from pyspark.sql.functions import udf"
   ]
  },
  {
   "cell_type": "code",
   "execution_count": 4,
   "metadata": {},
   "outputs": [],
   "source": [
    "from pyspark.sql import SparkSession\n",
    "spark = SparkSession.builder.getOrCreate()"
   ]
  },
  {
   "cell_type": "markdown",
   "metadata": {},
   "source": [
    "## 6.1)  Charger la donnée"
   ]
  },
  {
   "cell_type": "code",
   "execution_count": 5,
   "metadata": {},
   "outputs": [
    {
     "data": {
      "text/plain": [
       "4868396"
      ]
     },
     "execution_count": 5,
     "metadata": {},
     "output_type": "execute_result"
    }
   ],
   "source": [
    "path = \"./data/Cyclistes/*.csv\" \n",
    "cyclistes = spark.read.format(\"csv\").option(\"header\", \"true\").load(path, inferSchema=True)\n",
    "cyclistes.count()"
   ]
  },
  {
   "cell_type": "code",
   "execution_count": 79,
   "metadata": {
    "scrolled": false
   },
   "outputs": [
    {
     "name": "stdout",
     "output_type": "stream",
     "text": [
      "root\n",
      " |-- id: integer (nullable = true)\n",
      " |-- timestamp: string (nullable = true)\n",
      " |-- sur_velo: boolean (nullable = true)\n",
      " |-- velo: string (nullable = true)\n",
      " |-- vitesse: double (nullable = true)\n",
      " |-- position: string (nullable = true)\n",
      " |-- destination_finale: string (nullable = true)\n",
      "\n"
     ]
    }
   ],
   "source": [
    "cyclistes.printSchema()"
   ]
  },
  {
   "cell_type": "code",
   "execution_count": 80,
   "metadata": {},
   "outputs": [
    {
     "data": {
      "text/plain": [
       "[Row(id=12, timestamp='2018-01-01 00:01:00', sur_velo=False, velo='False', vitesse=0.030000000000000006, position='(lon:2.07 lat:1.24)', destination_finale='False'),\n",
       " Row(id=12, timestamp='2018-01-01 00:02:00', sur_velo=False, velo='False', vitesse=0.030000000000000006, position='(lon:2.07 lat:1.24)', destination_finale='False'),\n",
       " Row(id=12, timestamp='2018-01-01 00:03:00', sur_velo=False, velo='False', vitesse=0.030000000000000006, position='(lon:2.07 lat:1.24)', destination_finale='False'),\n",
       " Row(id=12, timestamp='2018-01-01 00:04:00', sur_velo=False, velo='False', vitesse=0.030000000000000006, position='(lon:2.07 lat:1.24)', destination_finale='False'),\n",
       " Row(id=12, timestamp='2018-01-01 00:05:00', sur_velo=False, velo='False', vitesse=0.030000000000000006, position='(lon:2.07 lat:1.24)', destination_finale='False'),\n",
       " Row(id=12, timestamp='2018-01-01 00:06:00', sur_velo=False, velo='False', vitesse=0.030000000000000006, position='(lon:2.07 lat:1.24)', destination_finale='False'),\n",
       " Row(id=12, timestamp='2018-01-01 00:07:00', sur_velo=False, velo='False', vitesse=0.030000000000000006, position='(lon:2.07 lat:1.24)', destination_finale='False'),\n",
       " Row(id=12, timestamp='2018-01-01 00:08:00', sur_velo=False, velo='False', vitesse=0.030000000000000006, position='(lon:2.07 lat:1.24)', destination_finale='False'),\n",
       " Row(id=12, timestamp='2018-01-01 00:09:00', sur_velo=False, velo='False', vitesse=0.030000000000000006, position='(lon:2.07 lat:1.24)', destination_finale='False'),\n",
       " Row(id=12, timestamp='2018-01-01 00:10:00', sur_velo=False, velo='False', vitesse=0.030000000000000006, position='(lon:2.07 lat:1.24)', destination_finale='False')]"
      ]
     },
     "execution_count": 80,
     "metadata": {},
     "output_type": "execute_result"
    }
   ],
   "source": [
    "cyclistes.take(10)"
   ]
  },
  {
   "cell_type": "markdown",
   "metadata": {},
   "source": [
    "## 6.2) vérifier le nombre de cycles\n",
    "\n",
    "Comptez le nombre d'id uniques."
   ]
  },
  {
   "cell_type": "code",
   "execution_count": 81,
   "metadata": {},
   "outputs": [],
   "source": [
    "ids = cyclistes.select(\"id\").drop_duplicates()"
   ]
  },
  {
   "cell_type": "code",
   "execution_count": 82,
   "metadata": {},
   "outputs": [
    {
     "data": {
      "text/plain": [
       "50"
      ]
     },
     "execution_count": 82,
     "metadata": {},
     "output_type": "execute_result"
    }
   ],
   "source": [
    "ids.count()"
   ]
  },
  {
   "cell_type": "markdown",
   "metadata": {},
   "source": [
    "## 6.3) transformer les timestamp en date\n",
    "\n",
    "Voici une fonction qui permert de récuperer la date sous forme de chaîne de caractère dans la colonne timestamps pour la transformer en date exploitable en tant que telle.\n",
    "\n",
    "Créez une nouvelle colonne dans votre df stockant le résultat de cette fonction."
   ]
  },
  {
   "cell_type": "code",
   "execution_count": 2,
   "metadata": {},
   "outputs": [
    {
     "ename": "NameError",
     "evalue": "name 'udf' is not defined",
     "output_type": "error",
     "traceback": [
      "\u001b[0;31m---------------------------------------------------------------------------\u001b[0m",
      "\u001b[0;31mNameError\u001b[0m                                 Traceback (most recent call last)",
      "\u001b[0;32m<ipython-input-2-9121d542591b>\u001b[0m in \u001b[0;36m<module>\u001b[0;34m\u001b[0m\n\u001b[1;32m      1\u001b[0m \u001b[0;32mfrom\u001b[0m \u001b[0mpyspark\u001b[0m\u001b[0;34m.\u001b[0m\u001b[0msql\u001b[0m\u001b[0;34m.\u001b[0m\u001b[0mtypes\u001b[0m \u001b[0;32mimport\u001b[0m \u001b[0mTimestampType\u001b[0m\u001b[0;34m\u001b[0m\u001b[0;34m\u001b[0m\u001b[0m\n\u001b[1;32m      2\u001b[0m \u001b[0;34m\u001b[0m\u001b[0m\n\u001b[0;32m----> 3\u001b[0;31m \u001b[0;34m@\u001b[0m\u001b[0mudf\u001b[0m\u001b[0;34m(\u001b[0m\u001b[0mreturnType\u001b[0m \u001b[0;34m=\u001b[0m \u001b[0mTimestampType\u001b[0m\u001b[0;34m(\u001b[0m\u001b[0;34m)\u001b[0m\u001b[0;34m)\u001b[0m\u001b[0;34m\u001b[0m\u001b[0;34m\u001b[0m\u001b[0m\n\u001b[0m\u001b[1;32m      4\u001b[0m \u001b[0;32mdef\u001b[0m \u001b[0mtransform_timestamp_in_date\u001b[0m\u001b[0;34m(\u001b[0m\u001b[0mtimestamp\u001b[0m\u001b[0;34m)\u001b[0m\u001b[0;34m:\u001b[0m\u001b[0;34m\u001b[0m\u001b[0;34m\u001b[0m\u001b[0m\n\u001b[1;32m      5\u001b[0m     \u001b[0;32mfrom\u001b[0m \u001b[0mdatetime\u001b[0m \u001b[0;32mimport\u001b[0m \u001b[0mdatetime\u001b[0m\u001b[0;34m\u001b[0m\u001b[0;34m\u001b[0m\u001b[0m\n",
      "\u001b[0;31mNameError\u001b[0m: name 'udf' is not defined"
     ]
    }
   ],
   "source": [
    "from pyspark.sql.types import TimestampType\n",
    "\n",
    "@udf(returnType = TimestampType())\n",
    "def transform_timestamp_in_date(timestamp):\n",
    "    from datetime import datetime\n",
    "    return datetime.strptime(timestamp, \"%Y-%m-%d %H:%M:%S\")"
   ]
  },
  {
   "cell_type": "code",
   "execution_count": 84,
   "metadata": {},
   "outputs": [],
   "source": [
    "cyclistes = cyclistes.withColumn(\"date\", transform_timestamp_in_date(\"timestamp\"))"
   ]
  },
  {
   "cell_type": "code",
   "execution_count": 85,
   "metadata": {
    "scrolled": true
   },
   "outputs": [
    {
     "data": {
      "text/plain": [
       "[Row(id=12, timestamp='2018-01-01 00:01:00', sur_velo=False, velo='False', vitesse=0.030000000000000006, position='(lon:2.07 lat:1.24)', destination_finale='False', date=datetime.datetime(2018, 1, 1, 0, 1)),\n",
       " Row(id=12, timestamp='2018-01-01 00:02:00', sur_velo=False, velo='False', vitesse=0.030000000000000006, position='(lon:2.07 lat:1.24)', destination_finale='False', date=datetime.datetime(2018, 1, 1, 0, 2)),\n",
       " Row(id=12, timestamp='2018-01-01 00:03:00', sur_velo=False, velo='False', vitesse=0.030000000000000006, position='(lon:2.07 lat:1.24)', destination_finale='False', date=datetime.datetime(2018, 1, 1, 0, 3)),\n",
       " Row(id=12, timestamp='2018-01-01 00:04:00', sur_velo=False, velo='False', vitesse=0.030000000000000006, position='(lon:2.07 lat:1.24)', destination_finale='False', date=datetime.datetime(2018, 1, 1, 0, 4)),\n",
       " Row(id=12, timestamp='2018-01-01 00:05:00', sur_velo=False, velo='False', vitesse=0.030000000000000006, position='(lon:2.07 lat:1.24)', destination_finale='False', date=datetime.datetime(2018, 1, 1, 0, 5))]"
      ]
     },
     "execution_count": 85,
     "metadata": {},
     "output_type": "execute_result"
    }
   ],
   "source": [
    "cyclistes.take(5)"
   ]
  },
  {
   "cell_type": "code",
   "execution_count": 86,
   "metadata": {},
   "outputs": [
    {
     "name": "stdout",
     "output_type": "stream",
     "text": [
      "+-------------------+\n",
      "|               date|\n",
      "+-------------------+\n",
      "|2018-01-01 00:01:00|\n",
      "|2018-01-01 00:02:00|\n",
      "|2018-01-01 00:03:00|\n",
      "|2018-01-01 00:04:00|\n",
      "|2018-01-01 00:05:00|\n",
      "+-------------------+\n",
      "only showing top 5 rows\n",
      "\n"
     ]
    }
   ],
   "source": [
    "cyclistes.select(\"date\").show(5)"
   ]
  },
  {
   "cell_type": "code",
   "execution_count": 87,
   "metadata": {},
   "outputs": [
    {
     "name": "stdout",
     "output_type": "stream",
     "text": [
      "root\n",
      " |-- id: integer (nullable = true)\n",
      " |-- timestamp: string (nullable = true)\n",
      " |-- sur_velo: boolean (nullable = true)\n",
      " |-- velo: string (nullable = true)\n",
      " |-- vitesse: double (nullable = true)\n",
      " |-- position: string (nullable = true)\n",
      " |-- destination_finale: string (nullable = true)\n",
      " |-- date: timestamp (nullable = true)\n",
      "\n"
     ]
    }
   ],
   "source": [
    "cyclistes.printSchema()"
   ]
  },
  {
   "cell_type": "markdown",
   "metadata": {},
   "source": [
    "## 6.4) Durée des trajets par id.\n",
    "\n",
    "A partir d'ici, il s'agit de traiter votre donnée pour récupérer la durée de chaque trajet effectué par chaque id.\n",
    "\n",
    "1) trouvez les dates min/max par état de sur_velo, puis par id ET par état de sur_velo."
   ]
  },
  {
   "cell_type": "code",
   "execution_count": 1,
   "metadata": {},
   "outputs": [
    {
     "ename": "NameError",
     "evalue": "name 'cyclistes' is not defined",
     "output_type": "error",
     "traceback": [
      "\u001b[0;31m---------------------------------------------------------------------------\u001b[0m",
      "\u001b[0;31mNameError\u001b[0m                                 Traceback (most recent call last)",
      "\u001b[0;32m<ipython-input-1-353c8ca2a570>\u001b[0m in \u001b[0;36m<module>\u001b[0;34m\u001b[0m\n\u001b[0;32m----> 1\u001b[0;31m \u001b[0m_\u001b[0m \u001b[0;34m=\u001b[0m \u001b[0mcyclistes\u001b[0m\u001b[0;34m.\u001b[0m\u001b[0mgroupBy\u001b[0m\u001b[0;34m(\u001b[0m\u001b[0;34m[\u001b[0m\u001b[0;34m\"sur_velo\"\u001b[0m\u001b[0;34m]\u001b[0m\u001b[0;34m)\u001b[0m\u001b[0;34m.\u001b[0m\u001b[0magg\u001b[0m\u001b[0;34m(\u001b[0m\u001b[0mF\u001b[0m\u001b[0;34m.\u001b[0m\u001b[0mmin\u001b[0m\u001b[0;34m(\u001b[0m\u001b[0mcyclistes\u001b[0m\u001b[0;34m.\u001b[0m\u001b[0mdate\u001b[0m\u001b[0;34m)\u001b[0m\u001b[0;34m,\u001b[0m \u001b[0mF\u001b[0m\u001b[0;34m.\u001b[0m\u001b[0mmax\u001b[0m\u001b[0;34m(\u001b[0m\u001b[0mcyclistes\u001b[0m\u001b[0;34m.\u001b[0m\u001b[0mdate\u001b[0m\u001b[0;34m)\u001b[0m\u001b[0;34m)\u001b[0m\u001b[0;34m\u001b[0m\u001b[0;34m\u001b[0m\u001b[0m\n\u001b[0m\u001b[1;32m      2\u001b[0m \u001b[0m_\u001b[0m\u001b[0;34m.\u001b[0m\u001b[0mcollect\u001b[0m\u001b[0;34m(\u001b[0m\u001b[0;34m)\u001b[0m\u001b[0;34m\u001b[0m\u001b[0;34m\u001b[0m\u001b[0m\n",
      "\u001b[0;31mNameError\u001b[0m: name 'cyclistes' is not defined"
     ]
    }
   ],
   "source": [
    "_ = cyclistes.groupBy([\"sur_velo\"]).agg(F.min(cyclistes.date), F.max(cyclistes.date))\n",
    "_.collect()"
   ]
  },
  {
   "cell_type": "code",
   "execution_count": 89,
   "metadata": {},
   "outputs": [
    {
     "data": {
      "text/plain": [
       "[Row(id=2, sur_velo=True, min(date)=datetime.datetime(2018, 1, 1, 12, 33), max(date)=datetime.datetime(2018, 1, 31, 20, 2)),\n",
       " Row(id=2, sur_velo=False, min(date)=datetime.datetime(2018, 1, 1, 0, 1), max(date)=datetime.datetime(2018, 2, 1, 0, 0)),\n",
       " Row(id=3, sur_velo=True, min(date)=datetime.datetime(2018, 1, 6, 6, 24), max(date)=datetime.datetime(2018, 1, 28, 19, 33)),\n",
       " Row(id=3, sur_velo=False, min(date)=datetime.datetime(2018, 1, 1, 0, 1), max(date)=datetime.datetime(2018, 2, 1, 0, 0)),\n",
       " Row(id=4, sur_velo=False, min(date)=datetime.datetime(2018, 1, 1, 0, 1), max(date)=datetime.datetime(2018, 2, 1, 0, 0))]"
      ]
     },
     "execution_count": 89,
     "metadata": {},
     "output_type": "execute_result"
    }
   ],
   "source": [
    "_ = cyclistes.sort([\"id\", \"date\"]).groupBy([\"id\", \"sur_velo\"])\\\n",
    "                      .agg(F.min(cyclistes.date), F.max(cyclistes.date)).sort(\"id\")\n",
    "_.take(5)"
   ]
  },
  {
   "cell_type": "markdown",
   "metadata": {},
   "source": [
    "2) Le résultat n'est pas trés pertinent, il faudrait plutôt le début et la fin de chaque trajet par id. Pour cela, il faudrait détecter les changements d'états \"sur_vélo\".\n",
    "Utilisez la classe Window() et la fonction F.lag() pour créer une nouvelle colonne que vous appellerez changement, contenant un 0 si l'état précedent de sur_velo est le même et un 1 si l'état vient de changer (fonction changement() ci-dessous) pour chaque id."
   ]
  },
  {
   "cell_type": "code",
   "execution_count": 90,
   "metadata": {},
   "outputs": [],
   "source": [
    "from pyspark.sql.functions import udf"
   ]
  },
  {
   "cell_type": "code",
   "execution_count": 91,
   "metadata": {},
   "outputs": [],
   "source": [
    "@udf(returnType = IntegerType())\n",
    "def changement(etat_actuel, etat_precedent):\n",
    "    \"\"\"\n",
    "    Détecte si les deux états sont différent.\n",
    "    \n",
    "    Parametres :\n",
    "        etat_actuel : valeur sur la ligne courante\n",
    "                      renvoyée par F.lag (0)\n",
    "        etat_precedent : valeur sur la ligne précédente\n",
    "                      renvoyée par F.lag(1)\n",
    "    Return: 0 s'ils sont égaux, 1 s'il y a une différence\n",
    "    \"\"\"\n",
    "    if etat_precedent == None:\n",
    "        return 0\n",
    "    if etat_precedent == etat_actuel:\n",
    "        return 0\n",
    "    if etat_actuel != etat_precedent:\n",
    "        return 1"
   ]
  },
  {
   "cell_type": "code",
   "execution_count": 92,
   "metadata": {},
   "outputs": [],
   "source": [
    "from pyspark.sql.window import Window\n",
    "w = Window.orderBy([\"id\", \"date\"])"
   ]
  },
  {
   "cell_type": "code",
   "execution_count": 93,
   "metadata": {},
   "outputs": [],
   "source": [
    "cyclistes = cyclistes.withColumn(\"changement\", changement( F.lag(\"sur_velo\", 0).over(w), F.lag(\"sur_velo\", 1).over(w)))"
   ]
  },
  {
   "cell_type": "code",
   "execution_count": 94,
   "metadata": {},
   "outputs": [
    {
     "name": "stdout",
     "output_type": "stream",
     "text": [
      "root\n",
      " |-- id: integer (nullable = true)\n",
      " |-- timestamp: string (nullable = true)\n",
      " |-- sur_velo: boolean (nullable = true)\n",
      " |-- velo: string (nullable = true)\n",
      " |-- vitesse: double (nullable = true)\n",
      " |-- position: string (nullable = true)\n",
      " |-- destination_finale: string (nullable = true)\n",
      " |-- date: timestamp (nullable = true)\n",
      " |-- changement: integer (nullable = true)\n",
      "\n"
     ]
    }
   ],
   "source": [
    "cyclistes.printSchema()"
   ]
  },
  {
   "cell_type": "code",
   "execution_count": 96,
   "metadata": {},
   "outputs": [
    {
     "data": {
      "text/plain": [
       "[Row(id=2, timestamp='2018-01-01 00:01:00', velo='False', changement=0),\n",
       " Row(id=2, timestamp='2018-01-01 00:02:00', velo='False', changement=0),\n",
       " Row(id=2, timestamp='2018-01-01 00:03:00', velo='False', changement=0),\n",
       " Row(id=2, timestamp='2018-01-01 00:04:00', velo='False', changement=0),\n",
       " Row(id=2, timestamp='2018-01-01 00:05:00', velo='False', changement=0),\n",
       " Row(id=2, timestamp='2018-01-01 00:06:00', velo='False', changement=0),\n",
       " Row(id=2, timestamp='2018-01-01 00:07:00', velo='False', changement=0),\n",
       " Row(id=2, timestamp='2018-01-01 00:08:00', velo='False', changement=0),\n",
       " Row(id=2, timestamp='2018-01-01 00:09:00', velo='False', changement=0),\n",
       " Row(id=2, timestamp='2018-01-01 00:10:00', velo='False', changement=0),\n",
       " Row(id=2, timestamp='2018-01-01 00:11:00', velo='False', changement=0),\n",
       " Row(id=2, timestamp='2018-01-01 00:12:00', velo='False', changement=0),\n",
       " Row(id=2, timestamp='2018-01-01 00:13:00', velo='False', changement=0),\n",
       " Row(id=2, timestamp='2018-01-01 00:14:00', velo='False', changement=0),\n",
       " Row(id=2, timestamp='2018-01-01 00:15:00', velo='False', changement=0),\n",
       " Row(id=2, timestamp='2018-01-01 00:16:00', velo='False', changement=0),\n",
       " Row(id=2, timestamp='2018-01-01 00:17:00', velo='False', changement=0),\n",
       " Row(id=2, timestamp='2018-01-01 00:18:00', velo='False', changement=0),\n",
       " Row(id=2, timestamp='2018-01-01 00:19:00', velo='False', changement=0),\n",
       " Row(id=2, timestamp='2018-01-01 00:20:00', velo='False', changement=0),\n",
       " Row(id=2, timestamp='2018-01-01 00:21:00', velo='False', changement=0),\n",
       " Row(id=2, timestamp='2018-01-01 00:22:00', velo='False', changement=0),\n",
       " Row(id=2, timestamp='2018-01-01 00:23:00', velo='False', changement=0),\n",
       " Row(id=2, timestamp='2018-01-01 00:24:00', velo='False', changement=0),\n",
       " Row(id=2, timestamp='2018-01-01 00:25:00', velo='False', changement=0),\n",
       " Row(id=2, timestamp='2018-01-01 00:26:00', velo='False', changement=0),\n",
       " Row(id=2, timestamp='2018-01-01 00:27:00', velo='False', changement=0),\n",
       " Row(id=2, timestamp='2018-01-01 00:28:00', velo='False', changement=0),\n",
       " Row(id=2, timestamp='2018-01-01 00:29:00', velo='False', changement=0),\n",
       " Row(id=2, timestamp='2018-01-01 00:30:00', velo='False', changement=0),\n",
       " Row(id=2, timestamp='2018-01-01 00:31:00', velo='False', changement=0),\n",
       " Row(id=2, timestamp='2018-01-01 00:32:00', velo='False', changement=0),\n",
       " Row(id=2, timestamp='2018-01-01 00:33:00', velo='False', changement=0),\n",
       " Row(id=2, timestamp='2018-01-01 00:34:00', velo='False', changement=0),\n",
       " Row(id=2, timestamp='2018-01-01 00:35:00', velo='False', changement=0),\n",
       " Row(id=2, timestamp='2018-01-01 00:36:00', velo='False', changement=0),\n",
       " Row(id=2, timestamp='2018-01-01 00:37:00', velo='False', changement=0),\n",
       " Row(id=2, timestamp='2018-01-01 00:38:00', velo='False', changement=0),\n",
       " Row(id=2, timestamp='2018-01-01 00:39:00', velo='False', changement=0),\n",
       " Row(id=2, timestamp='2018-01-01 00:40:00', velo='False', changement=0),\n",
       " Row(id=2, timestamp='2018-01-01 00:41:00', velo='False', changement=0),\n",
       " Row(id=2, timestamp='2018-01-01 00:42:00', velo='False', changement=0),\n",
       " Row(id=2, timestamp='2018-01-01 00:43:00', velo='False', changement=0),\n",
       " Row(id=2, timestamp='2018-01-01 00:44:00', velo='False', changement=0),\n",
       " Row(id=2, timestamp='2018-01-01 00:45:00', velo='False', changement=0),\n",
       " Row(id=2, timestamp='2018-01-01 00:46:00', velo='False', changement=0),\n",
       " Row(id=2, timestamp='2018-01-01 00:47:00', velo='False', changement=0),\n",
       " Row(id=2, timestamp='2018-01-01 00:48:00', velo='False', changement=0),\n",
       " Row(id=2, timestamp='2018-01-01 00:49:00', velo='False', changement=0),\n",
       " Row(id=2, timestamp='2018-01-01 00:50:00', velo='False', changement=0),\n",
       " Row(id=2, timestamp='2018-01-01 00:51:00', velo='False', changement=0),\n",
       " Row(id=2, timestamp='2018-01-01 00:52:00', velo='False', changement=0),\n",
       " Row(id=2, timestamp='2018-01-01 00:53:00', velo='False', changement=0),\n",
       " Row(id=2, timestamp='2018-01-01 00:54:00', velo='False', changement=0),\n",
       " Row(id=2, timestamp='2018-01-01 00:55:00', velo='False', changement=0),\n",
       " Row(id=2, timestamp='2018-01-01 00:56:00', velo='False', changement=0),\n",
       " Row(id=2, timestamp='2018-01-01 00:57:00', velo='False', changement=0),\n",
       " Row(id=2, timestamp='2018-01-01 00:58:00', velo='False', changement=0),\n",
       " Row(id=2, timestamp='2018-01-01 00:59:00', velo='False', changement=0),\n",
       " Row(id=2, timestamp='2018-01-01 01:00:00', velo='False', changement=0),\n",
       " Row(id=2, timestamp='2018-01-01 01:01:00', velo='False', changement=0),\n",
       " Row(id=2, timestamp='2018-01-01 01:02:00', velo='False', changement=0),\n",
       " Row(id=2, timestamp='2018-01-01 01:03:00', velo='False', changement=0),\n",
       " Row(id=2, timestamp='2018-01-01 01:04:00', velo='False', changement=0),\n",
       " Row(id=2, timestamp='2018-01-01 01:05:00', velo='False', changement=0),\n",
       " Row(id=2, timestamp='2018-01-01 01:06:00', velo='False', changement=0),\n",
       " Row(id=2, timestamp='2018-01-01 01:07:00', velo='False', changement=0),\n",
       " Row(id=2, timestamp='2018-01-01 01:08:00', velo='False', changement=0),\n",
       " Row(id=2, timestamp='2018-01-01 01:09:00', velo='False', changement=0),\n",
       " Row(id=2, timestamp='2018-01-01 01:10:00', velo='False', changement=0),\n",
       " Row(id=2, timestamp='2018-01-01 01:11:00', velo='False', changement=0),\n",
       " Row(id=2, timestamp='2018-01-01 01:12:00', velo='False', changement=0),\n",
       " Row(id=2, timestamp='2018-01-01 01:13:00', velo='False', changement=0),\n",
       " Row(id=2, timestamp='2018-01-01 01:14:00', velo='False', changement=0),\n",
       " Row(id=2, timestamp='2018-01-01 01:15:00', velo='False', changement=0),\n",
       " Row(id=2, timestamp='2018-01-01 01:16:00', velo='False', changement=0),\n",
       " Row(id=2, timestamp='2018-01-01 01:17:00', velo='False', changement=0),\n",
       " Row(id=2, timestamp='2018-01-01 01:18:00', velo='False', changement=0),\n",
       " Row(id=2, timestamp='2018-01-01 01:19:00', velo='False', changement=0),\n",
       " Row(id=2, timestamp='2018-01-01 01:20:00', velo='False', changement=0),\n",
       " Row(id=2, timestamp='2018-01-01 01:21:00', velo='False', changement=0),\n",
       " Row(id=2, timestamp='2018-01-01 01:22:00', velo='False', changement=0),\n",
       " Row(id=2, timestamp='2018-01-01 01:23:00', velo='False', changement=0),\n",
       " Row(id=2, timestamp='2018-01-01 01:24:00', velo='False', changement=0),\n",
       " Row(id=2, timestamp='2018-01-01 01:25:00', velo='False', changement=0),\n",
       " Row(id=2, timestamp='2018-01-01 01:26:00', velo='False', changement=0),\n",
       " Row(id=2, timestamp='2018-01-01 01:27:00', velo='False', changement=0),\n",
       " Row(id=2, timestamp='2018-01-01 01:28:00', velo='False', changement=0),\n",
       " Row(id=2, timestamp='2018-01-01 01:29:00', velo='False', changement=0),\n",
       " Row(id=2, timestamp='2018-01-01 01:30:00', velo='False', changement=0),\n",
       " Row(id=2, timestamp='2018-01-01 01:31:00', velo='False', changement=0),\n",
       " Row(id=2, timestamp='2018-01-01 01:32:00', velo='False', changement=0),\n",
       " Row(id=2, timestamp='2018-01-01 01:33:00', velo='False', changement=0),\n",
       " Row(id=2, timestamp='2018-01-01 01:34:00', velo='False', changement=0),\n",
       " Row(id=2, timestamp='2018-01-01 01:35:00', velo='False', changement=0),\n",
       " Row(id=2, timestamp='2018-01-01 01:36:00', velo='False', changement=0),\n",
       " Row(id=2, timestamp='2018-01-01 01:37:00', velo='False', changement=0),\n",
       " Row(id=2, timestamp='2018-01-01 01:38:00', velo='False', changement=0),\n",
       " Row(id=2, timestamp='2018-01-01 01:39:00', velo='False', changement=0),\n",
       " Row(id=2, timestamp='2018-01-01 01:40:00', velo='False', changement=0)]"
      ]
     },
     "execution_count": 96,
     "metadata": {},
     "output_type": "execute_result"
    }
   ],
   "source": [
    "cyclistes.select(\"id\", \"timestamp\", \"velo\", \"changement\").sort(\"id\", \"timestamp\").take(100)"
   ]
  },
  {
   "cell_type": "markdown",
   "metadata": {},
   "source": [
    "3) Grâce à la fonction window appliquez la fonction somme() sur la colonne changement pour numeroter les trajets pour chaque id et stocker les résulats dans une nouvelle colonne appelée numero_de_trajet."
   ]
  },
  {
   "cell_type": "code",
   "execution_count": 95,
   "metadata": {},
   "outputs": [],
   "source": [
    "@udf(returnType = IntegerType())\n",
    "def somme(indice_actuel, indice_precedent):\n",
    "    if indice_precedent == None:\n",
    "        return 0\n",
    "    return indice_actuel + indice_precedent"
   ]
  },
  {
   "cell_type": "code",
   "execution_count": 97,
   "metadata": {},
   "outputs": [],
   "source": [
    "windowval = Window.orderBy([\"id\", \"date\"])\n",
    "windowval = windowval.partitionBy(\"id\")\n",
    "windowval = windowval.rangeBetween(Window.unboundedPreceding, 0)"
   ]
  },
  {
   "cell_type": "code",
   "execution_count": 98,
   "metadata": {},
   "outputs": [],
   "source": [
    "cyclistes = cyclistes.withColumn(\"numero_de_trajet\", F.sum(\"changement\").over(windowval))"
   ]
  },
  {
   "cell_type": "code",
   "execution_count": 99,
   "metadata": {},
   "outputs": [
    {
     "name": "stdout",
     "output_type": "stream",
     "text": [
      "root\n",
      " |-- id: integer (nullable = true)\n",
      " |-- timestamp: string (nullable = true)\n",
      " |-- sur_velo: boolean (nullable = true)\n",
      " |-- velo: string (nullable = true)\n",
      " |-- vitesse: double (nullable = true)\n",
      " |-- position: string (nullable = true)\n",
      " |-- destination_finale: string (nullable = true)\n",
      " |-- date: timestamp (nullable = true)\n",
      " |-- changement: integer (nullable = true)\n",
      " |-- numero_de_trajet: long (nullable = true)\n",
      "\n"
     ]
    }
   ],
   "source": [
    "cyclistes.printSchema()"
   ]
  },
  {
   "cell_type": "code",
   "execution_count": 100,
   "metadata": {},
   "outputs": [
    {
     "data": {
      "text/plain": [
       "[Row(id=31, timestamp='2018-01-01 00:01:00', changement=0, numero_de_trajet=0),\n",
       " Row(id=31, timestamp='2018-01-01 00:02:00', changement=0, numero_de_trajet=0),\n",
       " Row(id=31, timestamp='2018-01-01 00:03:00', changement=0, numero_de_trajet=0),\n",
       " Row(id=31, timestamp='2018-01-01 00:04:00', changement=0, numero_de_trajet=0),\n",
       " Row(id=31, timestamp='2018-01-01 00:05:00', changement=0, numero_de_trajet=0)]"
      ]
     },
     "execution_count": 100,
     "metadata": {},
     "output_type": "execute_result"
    }
   ],
   "source": [
    "cyclistes.select(\"id\", \"timestamp\", \"changement\", \"numero_de_trajet\").take(5)"
   ]
  },
  {
   "cell_type": "markdown",
   "metadata": {},
   "source": [
    "4) Il suffit maintenant de repêter la première étape, c'est a dire récupérer la début et la fin de chaque trajet pour chaque id. Puis calculer la durée des trajets."
   ]
  },
  {
   "cell_type": "code",
   "execution_count": 103,
   "metadata": {},
   "outputs": [],
   "source": [
    "debut_fin_trajets = cyclistes.groupBy([\"id\", \"numero_de_trajet\"]).agg(F.min(cyclistes.date) , F.max(cyclistes.date))\n"
   ]
  },
  {
   "cell_type": "code",
   "execution_count": 104,
   "metadata": {},
   "outputs": [
    {
     "data": {
      "text/plain": [
       "[Row(id=31, numero_de_trajet=0, min(date)=datetime.datetime(2018, 1, 1, 0, 1), max(date)=datetime.datetime(2018, 1, 1, 9, 54)),\n",
       " Row(id=31, numero_de_trajet=1, min(date)=datetime.datetime(2018, 1, 1, 9, 55), max(date)=datetime.datetime(2018, 1, 1, 9, 57)),\n",
       " Row(id=31, numero_de_trajet=2, min(date)=datetime.datetime(2018, 1, 1, 9, 58), max(date)=datetime.datetime(2018, 1, 1, 20, 47)),\n",
       " Row(id=31, numero_de_trajet=3, min(date)=datetime.datetime(2018, 1, 1, 20, 48), max(date)=datetime.datetime(2018, 1, 1, 20, 50)),\n",
       " Row(id=31, numero_de_trajet=4, min(date)=datetime.datetime(2018, 1, 1, 20, 51), max(date)=datetime.datetime(2018, 1, 2, 9, 54)),\n",
       " Row(id=31, numero_de_trajet=5, min(date)=datetime.datetime(2018, 1, 2, 9, 55), max(date)=datetime.datetime(2018, 1, 2, 9, 57)),\n",
       " Row(id=31, numero_de_trajet=6, min(date)=datetime.datetime(2018, 1, 2, 9, 58), max(date)=datetime.datetime(2018, 1, 2, 20, 47)),\n",
       " Row(id=31, numero_de_trajet=7, min(date)=datetime.datetime(2018, 1, 2, 20, 48), max(date)=datetime.datetime(2018, 1, 2, 20, 50)),\n",
       " Row(id=31, numero_de_trajet=8, min(date)=datetime.datetime(2018, 1, 2, 20, 51), max(date)=datetime.datetime(2018, 1, 3, 9, 54)),\n",
       " Row(id=31, numero_de_trajet=9, min(date)=datetime.datetime(2018, 1, 3, 9, 55), max(date)=datetime.datetime(2018, 1, 3, 9, 57))]"
      ]
     },
     "execution_count": 104,
     "metadata": {},
     "output_type": "execute_result"
    }
   ],
   "source": [
    "debut_fin_trajets.take(10)"
   ]
  },
  {
   "cell_type": "code",
   "execution_count": 111,
   "metadata": {},
   "outputs": [
    {
     "data": {
      "text/plain": [
       "[Row(id=31, numero_de_trajet=0, min(date)=datetime.datetime(2018, 1, 1, 0, 1), max(date)=datetime.datetime(2018, 1, 1, 9, 54)),\n",
       " Row(id=31, numero_de_trajet=1, min(date)=datetime.datetime(2018, 1, 1, 9, 55), max(date)=datetime.datetime(2018, 1, 1, 9, 57)),\n",
       " Row(id=31, numero_de_trajet=2, min(date)=datetime.datetime(2018, 1, 1, 9, 58), max(date)=datetime.datetime(2018, 1, 1, 20, 47)),\n",
       " Row(id=31, numero_de_trajet=3, min(date)=datetime.datetime(2018, 1, 1, 20, 48), max(date)=datetime.datetime(2018, 1, 1, 20, 50))]"
      ]
     },
     "execution_count": 111,
     "metadata": {},
     "output_type": "execute_result"
    }
   ],
   "source": [
    "trajets = cyclistes\n",
    "debut_fin_trajets = trajets.groupBy([\"id\", \"numero_de_trajet\"]).agg(F.min(cyclistes.date),F.max(cyclistes.date))\n",
    "debut_fin_trajets.take(4)"
   ]
  },
  {
   "cell_type": "code",
   "execution_count": 112,
   "metadata": {},
   "outputs": [],
   "source": [
    "trajets = trajets.groupBy([\"id\", \"numero_de_trajet\"])\n",
    "trajets = trajets.agg(F.unix_timestamp(F.max(cyclistes.date)) - F.unix_timestamp(F.min(cyclistes.date)))\n",
    "trajets = trajets.sort([\"id\", \"numero_de_trajet\"])"
   ]
  },
  {
   "cell_type": "code",
   "execution_count": 113,
   "metadata": {},
   "outputs": [
    {
     "name": "stdout",
     "output_type": "stream",
     "text": [
      "root\n",
      " |-- id: integer (nullable = true)\n",
      " |-- numero_de_trajet: long (nullable = true)\n",
      " |-- (unix_timestamp(max(date), yyyy-MM-dd HH:mm:ss) - unix_timestamp(min(date), yyyy-MM-dd HH:mm:ss)): long (nullable = true)\n",
      "\n"
     ]
    }
   ],
   "source": [
    "trajets.printSchema()"
   ]
  },
  {
   "cell_type": "code",
   "execution_count": 114,
   "metadata": {
    "scrolled": false
   },
   "outputs": [
    {
     "data": {
      "text/plain": [
       "[Row(id=2, numero_de_trajet=0, duree=45060),\n",
       " Row(id=2, numero_de_trajet=1, duree=180),\n",
       " Row(id=2, numero_de_trajet=2, duree=26460),\n",
       " Row(id=2, numero_de_trajet=3, duree=60)]"
      ]
     },
     "execution_count": 114,
     "metadata": {},
     "output_type": "execute_result"
    }
   ],
   "source": [
    "trajets = trajets.withColumnRenamed(\"(unix_timestamp(max(date), yyyy-MM-dd HH:mm:ss) - unix_timestamp(min(date), yyyy-MM-dd HH:mm:ss))\", \"duree\")\n",
    "trajets.take(4)\n"
   ]
  },
  {
   "cell_type": "markdown",
   "metadata": {},
   "source": [
    "# 7) datavisualisation\n",
    "\n",
    "Convertissez votre dataframe pyspark en dataframe pandas."
   ]
  },
  {
   "cell_type": "code",
   "execution_count": 115,
   "metadata": {},
   "outputs": [
    {
     "data": {
      "text/html": [
       "<div>\n",
       "<style scoped>\n",
       "    .dataframe tbody tr th:only-of-type {\n",
       "        vertical-align: middle;\n",
       "    }\n",
       "\n",
       "    .dataframe tbody tr th {\n",
       "        vertical-align: top;\n",
       "    }\n",
       "\n",
       "    .dataframe thead th {\n",
       "        text-align: right;\n",
       "    }\n",
       "</style>\n",
       "<table border=\"1\" class=\"dataframe\">\n",
       "  <thead>\n",
       "    <tr style=\"text-align: right;\">\n",
       "      <th></th>\n",
       "      <th>id</th>\n",
       "      <th>numero_de_trajet</th>\n",
       "      <th>duree</th>\n",
       "    </tr>\n",
       "  </thead>\n",
       "  <tbody>\n",
       "    <tr>\n",
       "      <th>0</th>\n",
       "      <td>2</td>\n",
       "      <td>0</td>\n",
       "      <td>45060</td>\n",
       "    </tr>\n",
       "    <tr>\n",
       "      <th>1</th>\n",
       "      <td>2</td>\n",
       "      <td>1</td>\n",
       "      <td>180</td>\n",
       "    </tr>\n",
       "    <tr>\n",
       "      <th>2</th>\n",
       "      <td>2</td>\n",
       "      <td>2</td>\n",
       "      <td>26460</td>\n",
       "    </tr>\n",
       "    <tr>\n",
       "      <th>3</th>\n",
       "      <td>2</td>\n",
       "      <td>3</td>\n",
       "      <td>60</td>\n",
       "    </tr>\n",
       "    <tr>\n",
       "      <th>4</th>\n",
       "      <td>2</td>\n",
       "      <td>4</td>\n",
       "      <td>59460</td>\n",
       "    </tr>\n",
       "  </tbody>\n",
       "</table>\n",
       "</div>"
      ],
      "text/plain": [
       "   id  numero_de_trajet  duree\n",
       "0   2                 0  45060\n",
       "1   2                 1    180\n",
       "2   2                 2  26460\n",
       "3   2                 3     60\n",
       "4   2                 4  59460"
      ]
     },
     "execution_count": 115,
     "metadata": {},
     "output_type": "execute_result"
    }
   ],
   "source": [
    "df_pandas = trajets.toPandas()\n",
    "df_pandas.head()"
   ]
  },
  {
   "cell_type": "code",
   "execution_count": 125,
   "metadata": {
    "scrolled": true
   },
   "outputs": [],
   "source": [
    "df = df_pandas[df_pandas[\"numero_de_trajet\"] % 2 != 0]\n",
    "\n"
   ]
  },
  {
   "cell_type": "code",
   "execution_count": 126,
   "metadata": {},
   "outputs": [
    {
     "data": {
      "text/html": [
       "<div>\n",
       "<style scoped>\n",
       "    .dataframe tbody tr th:only-of-type {\n",
       "        vertical-align: middle;\n",
       "    }\n",
       "\n",
       "    .dataframe tbody tr th {\n",
       "        vertical-align: top;\n",
       "    }\n",
       "\n",
       "    .dataframe thead th {\n",
       "        text-align: right;\n",
       "    }\n",
       "</style>\n",
       "<table border=\"1\" class=\"dataframe\">\n",
       "  <thead>\n",
       "    <tr style=\"text-align: right;\">\n",
       "      <th></th>\n",
       "      <th>id</th>\n",
       "      <th>numero_de_trajet</th>\n",
       "      <th>duree</th>\n",
       "    </tr>\n",
       "  </thead>\n",
       "  <tbody>\n",
       "    <tr>\n",
       "      <th>1</th>\n",
       "      <td>2</td>\n",
       "      <td>1</td>\n",
       "      <td>180</td>\n",
       "    </tr>\n",
       "    <tr>\n",
       "      <th>3</th>\n",
       "      <td>2</td>\n",
       "      <td>3</td>\n",
       "      <td>60</td>\n",
       "    </tr>\n",
       "    <tr>\n",
       "      <th>5</th>\n",
       "      <td>2</td>\n",
       "      <td>5</td>\n",
       "      <td>60</td>\n",
       "    </tr>\n",
       "    <tr>\n",
       "      <th>7</th>\n",
       "      <td>2</td>\n",
       "      <td>7</td>\n",
       "      <td>60</td>\n",
       "    </tr>\n",
       "    <tr>\n",
       "      <th>9</th>\n",
       "      <td>2</td>\n",
       "      <td>9</td>\n",
       "      <td>60</td>\n",
       "    </tr>\n",
       "    <tr>\n",
       "      <th>...</th>\n",
       "      <td>...</td>\n",
       "      <td>...</td>\n",
       "      <td>...</td>\n",
       "    </tr>\n",
       "    <tr>\n",
       "      <th>3568</th>\n",
       "      <td>51</td>\n",
       "      <td>59</td>\n",
       "      <td>3120</td>\n",
       "    </tr>\n",
       "    <tr>\n",
       "      <th>3570</th>\n",
       "      <td>51</td>\n",
       "      <td>61</td>\n",
       "      <td>8340</td>\n",
       "    </tr>\n",
       "    <tr>\n",
       "      <th>3572</th>\n",
       "      <td>51</td>\n",
       "      <td>63</td>\n",
       "      <td>5940</td>\n",
       "    </tr>\n",
       "    <tr>\n",
       "      <th>3574</th>\n",
       "      <td>51</td>\n",
       "      <td>65</td>\n",
       "      <td>11760</td>\n",
       "    </tr>\n",
       "    <tr>\n",
       "      <th>3576</th>\n",
       "      <td>51</td>\n",
       "      <td>67</td>\n",
       "      <td>3120</td>\n",
       "    </tr>\n",
       "  </tbody>\n",
       "</table>\n",
       "<p>1764 rows × 3 columns</p>\n",
       "</div>"
      ],
      "text/plain": [
       "      id  numero_de_trajet  duree\n",
       "1      2                 1    180\n",
       "3      2                 3     60\n",
       "5      2                 5     60\n",
       "7      2                 7     60\n",
       "9      2                 9     60\n",
       "...   ..               ...    ...\n",
       "3568  51                59   3120\n",
       "3570  51                61   8340\n",
       "3572  51                63   5940\n",
       "3574  51                65  11760\n",
       "3576  51                67   3120\n",
       "\n",
       "[1764 rows x 3 columns]"
      ]
     },
     "execution_count": 126,
     "metadata": {},
     "output_type": "execute_result"
    }
   ],
   "source": [
    "df"
   ]
  },
  {
   "cell_type": "code",
   "execution_count": 116,
   "metadata": {},
   "outputs": [],
   "source": [
    "import seaborn as sns\n",
    "%matplotlib inline"
   ]
  },
  {
   "cell_type": "markdown",
   "metadata": {},
   "source": [
    "A l'aide de la librairie seaborn, réalisez un graphique en barre montrant la durée de tout les trajets."
   ]
  },
  {
   "cell_type": "code",
   "execution_count": 127,
   "metadata": {},
   "outputs": [
    {
     "data": {
      "image/png": "[encoded data removed]",
      "text/plain": [
       "<Figure size 432x288 with 1 Axes>"
      ]
     },
     "metadata": {
      "needs_background": "light"
     },
     "output_type": "display_data"
    }
   ],
   "source": [
    "df.sort_values([\"id\", \"numero_de_trajet\"]).plot(kind=\"bar\", x=\"numero_de_trajet\", y=\"duree\", title=\"Durée des trajets \")\n",
    "sns.despine()"
   ]
  },
  {
   "cell_type": "markdown",
   "metadata": {},
   "source": [
    "Faire le même graphique mais cette fois-ci, faire en sorte qu'on puisse choisir un id et afficher seulement les trajets de cet id."
   ]
  },
  {
   "cell_type": "code",
   "execution_count": 128,
   "metadata": {},
   "outputs": [
    {
     "data": {
      "image/png": "[encoded data removed]",
      "text/plain": [
       "<Figure size 432x288 with 1 Axes>"
      ]
     },
     "metadata": {
      "needs_background": "light"
     },
     "output_type": "display_data"
    }
   ],
   "source": [
    "numero_cycliste = [40]\n",
    "filtre = df.id.isin(numero_cycliste)\n",
    "df[filtre].plot(kind=\"bar\", x=\"numero_de_trajet\", y=\"duree\", title=\"Durée des trajets pour le cycliste %s\" %numero_cycliste)\n",
    "sns.despine()"
   ]
  },
  {
   "cell_type": "markdown",
   "metadata": {},
   "source": [
    "Sauvegardez votre dataset trajets au format csv dans le dossier data."
   ]
  },
  {
   "cell_type": "code",
   "execution_count": null,
   "metadata": {
    "scrolled": true
   },
   "outputs": [],
   "source": [
    "trajets.write.format(\"csv\").save(\"./data/trajets1.csv\")"
   ]
  },
  {
   "cell_type": "code",
   "execution_count": null,
   "metadata": {},
   "outputs": [],
   "source": []
  }
 ],
 "metadata": {
  "kernelspec": {
   "display_name": "Python 3",
   "language": "python",
   "name": "python3"
  },
  "language_info": {
   "codemirror_mode": {
    "name": "ipython",
    "version": 3
   },
   "file_extension": ".py",
   "mimetype": "text/x-python",
   "name": "python",
   "nbconvert_exporter": "python",
   "pygments_lexer": "ipython3",
   "version": "3.8.6"
  }
 },
 "nbformat": 4,
 "nbformat_minor": 2
}
